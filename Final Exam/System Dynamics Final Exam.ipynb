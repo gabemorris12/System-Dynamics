{
 "cells": [
  {
   "cell_type": "markdown",
   "source": [
    "\\begin{center}\n",
    "First Last\n",
    "\\end{center}"
   ],
   "metadata": {
    "collapsed": false
   },
   "id": "70e1b5a4466d58b"
  },
  {
   "cell_type": "code",
   "execution_count": 1,
   "id": "initial_id",
   "metadata": {
    "collapsed": true,
    "ExecuteTime": {
     "end_time": "2023-11-27T23:40:02.328421Z",
     "start_time": "2023-11-27T23:40:01.232863300Z"
    }
   },
   "outputs": [],
   "source": [
    "import control as ct\n",
    "import numpy as np\n",
    "import matplotlib.pyplot as plt\n",
    "import sympy as sp\n",
    "from scipy.optimize import fsolve\n",
    "\n",
    "# Use whichever pertains to your set-up\n",
    "# plt.style.use('maroon_ipynb.mplstyle')\n",
    "# plt.style.use('../maroon_ipynb.mplstyle')"
   ]
  },
  {
   "cell_type": "markdown",
   "source": [
    "\\pagebreak\n",
    "\\tableofcontents\n",
    "\\pagebreak\n",
    "\n",
    "\\begin{center}\n",
    "\\begin{tabular}{ccc}\n",
    "ME 3613 & Final Exam & First Last \\\\\n",
    "& & net-id\n",
    "\\end{tabular}\n",
    "\\end{center}\n",
    "\n",
    "# Problem 1\n",
    "## Given\n",
    "\n",
    "$$T(s)=\\frac{X(s)}{Y(s)}=\\frac{10}{10s^2+15s+17}$$\n",
    "\n",
    "## Find\n",
    "For the transfer function above,\n",
    "\n",
    "a. Plot the magnitude ($M(\\omega)$ not in decibels) and phase response for $0.1\\le\\omega<10\\,rad/s$. You can use whichever method you prefer, but only use the `bode()` function for checking.\n",
    "b. Find the resonant frequency $\\omega_r$.\n",
    "c. If the input function is $y(t)=11\\sin(5t)$, find the steady state function $x_{ss}(t)$. Plot the result with the transient response up to 6 seconds.\n",
    "\n",
    "## Solution\n",
    "### Part A - Plotting the Frequency Response (20 Points)"
   ],
   "metadata": {
    "collapsed": false
   },
   "id": "163e7b6dfd4fd584"
  },
  {
   "cell_type": "code",
   "execution_count": null,
   "outputs": [],
   "source": [],
   "metadata": {
    "collapsed": false
   },
   "id": "13c5fd2ff97fc6bd"
  },
  {
   "cell_type": "markdown",
   "source": [
    "### Part B - Finding the Resonant Frequency (10 Points)"
   ],
   "metadata": {
    "collapsed": false
   },
   "id": "3fe7e154382fd05f"
  },
  {
   "cell_type": "code",
   "execution_count": null,
   "outputs": [],
   "source": [],
   "metadata": {
    "collapsed": false
   },
   "id": "a8f31c98f15457b2"
  },
  {
   "cell_type": "markdown",
   "source": [
    "### Part C - Getting the Transient and Steady State Response (20 Points)"
   ],
   "metadata": {
    "collapsed": false
   },
   "id": "135e35e5a3269e47"
  },
  {
   "cell_type": "code",
   "execution_count": null,
   "outputs": [],
   "source": [],
   "metadata": {
    "collapsed": false
   },
   "id": "b61730dfb24894a3"
  },
  {
   "cell_type": "markdown",
   "source": [
    "\\pagebreak\n",
    "\n",
    "\\begin{center}\n",
    "\\begin{tabular}{ccc}\n",
    "ME 3613 & Final Exam & First Last \\\\\n",
    "& & net-id\n",
    "\\end{tabular}\n",
    "\\end{center}\n",
    "\n",
    "# Problem 2\n",
    "## Given\n",
    "\n",
    "$$T(s)=\\frac{1}{30s^2+30s+40}$$\n",
    "\n",
    "## Find\n",
    "For the transfer function above,\n",
    "\n",
    "a. Find the analytical solution for the magnitude response ($M(\\omega)$).\n",
    "b. Plot the magnitude response from $0.1\\le\\omega<10\\,rad/s$.\n",
    "c. Find the bandwidth ($\\omega_1$ to $\\omega_2$) and classify the filter type.\n",
    "\n",
    "## Solution\n",
    "### Part A - Finding the Magnitude Response Analytically (15 Points)"
   ],
   "metadata": {
    "collapsed": false
   },
   "id": "f1f6af66696a3bdc"
  },
  {
   "cell_type": "code",
   "execution_count": null,
   "outputs": [],
   "source": [],
   "metadata": {
    "collapsed": false
   },
   "id": "2765fedf292c12d6"
  },
  {
   "cell_type": "markdown",
   "source": [
    "### Part B - Plotting the Magnitude Response (15 Points)"
   ],
   "metadata": {
    "collapsed": false
   },
   "id": "a4c5396ab8d1a9b5"
  },
  {
   "cell_type": "code",
   "execution_count": null,
   "outputs": [],
   "source": [],
   "metadata": {
    "collapsed": false
   },
   "id": "5cd076a809d44da4"
  },
  {
   "cell_type": "markdown",
   "source": [
    "### Part C - Finding the Bandwidth (20 Points)"
   ],
   "metadata": {
    "collapsed": false
   },
   "id": "f94a37d1c751ef3f"
  },
  {
   "cell_type": "code",
   "execution_count": null,
   "outputs": [],
   "source": [],
   "metadata": {
    "collapsed": false
   },
   "id": "840dc6dca1194e01"
  }
 ],
 "metadata": {
  "kernelspec": {
   "display_name": "Python 3",
   "language": "python",
   "name": "python3"
  },
  "language_info": {
   "codemirror_mode": {
    "name": "ipython",
    "version": 2
   },
   "file_extension": ".py",
   "mimetype": "text/x-python",
   "name": "python",
   "nbconvert_exporter": "python",
   "pygments_lexer": "ipython2",
   "version": "2.7.6"
  }
 },
 "nbformat": 4,
 "nbformat_minor": 5
}
