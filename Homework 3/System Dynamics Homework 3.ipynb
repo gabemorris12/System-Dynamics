{
 "cells": [
  {
   "cell_type": "markdown",
   "source": [
    "\\begin{center}\n",
    "First Last\n",
    "\\end{center}"
   ],
   "metadata": {
    "collapsed": false
   },
   "id": "9d58867f3a838655"
  },
  {
   "cell_type": "code",
   "execution_count": 1,
   "id": "initial_id",
   "metadata": {
    "collapsed": true,
    "ExecuteTime": {
     "end_time": "2023-09-28T21:04:26.580450900Z",
     "start_time": "2023-09-28T21:04:24.217170300Z"
    }
   },
   "outputs": [],
   "source": [
    "import control as ct\n",
    "import matplotlib.pyplot as plt\n",
    "import numpy as np\n",
    "import sympy as sp\n",
    "import pandas as pd\n",
    "\n",
    "# Use whichever pertains to your set-up\n",
    "# plt.style.use('maroon_ipynb.mplstyle')\n",
    "# plt.style.use('../maroon_ipynb.mplstyle')"
   ]
  },
  {
   "cell_type": "markdown",
   "source": [
    "\\pagebreak\n",
    "\\tableofcontents\n",
    "\\pagebreak\n",
    "\n",
    "\\begin{center}\n",
    "\\begin{tabular}{ccc}\n",
    "ME 3613 & Homework 3 & First Last \\\\\n",
    "& & net-id\n",
    "\\end{tabular}\n",
    "\\end{center}\n",
    "\n",
    "# Problem 1\n",
    "## Given\n",
    "\n",
    "![Figure 1](f1.PNG)\n",
    "\n",
    "$$m=10\\ kg$$\n",
    "\n",
    "$$k_1=85\\ N/m,\\ k_2=30\\ N/m$$\n",
    "\n",
    "$$c_1=4\\ N\\cdot s/m,\\ c_2=3\\ N\\cdot s/m$$\n",
    "\n",
    "The input force $f(t)$ is in the `data.xlsx` file.\n",
    "\n",
    "## Find\n",
    "Using the control package `tf()` function to get the forced response, find the following:\n",
    "\n",
    "a. The equation of motion for the system.\n",
    "b. The transfer function $X(s)/F(s)$.\n",
    "c. The forced response for the no noise data. Plot the input force and the response on separate axes.\n",
    "d. Repeat part c for the high frequency noise data.\n",
    "e. Repeat part c for the low frequency noise data.\n",
    "\n",
    "## Solution\n",
    "### Part A"
   ],
   "metadata": {
    "collapsed": false
   },
   "id": "4d2aec46db999688"
  },
  {
   "cell_type": "code",
   "execution_count": null,
   "outputs": [],
   "source": [],
   "metadata": {
    "collapsed": false
   },
   "id": "cfabf381f4768087"
  },
  {
   "cell_type": "markdown",
   "source": [
    "### Part B"
   ],
   "metadata": {
    "collapsed": false
   },
   "id": "66be59d321394cd2"
  },
  {
   "cell_type": "code",
   "execution_count": null,
   "outputs": [],
   "source": [],
   "metadata": {
    "collapsed": false
   },
   "id": "78522e757848f2b5"
  },
  {
   "cell_type": "markdown",
   "source": [
    "### Part C"
   ],
   "metadata": {
    "collapsed": false
   },
   "id": "9693dfb091d4b1be"
  },
  {
   "cell_type": "code",
   "execution_count": null,
   "outputs": [],
   "source": [],
   "metadata": {
    "collapsed": false
   },
   "id": "a71e05e42e92801c"
  },
  {
   "cell_type": "markdown",
   "source": [
    "### Part D"
   ],
   "metadata": {
    "collapsed": false
   },
   "id": "a58f57c2fee80767"
  },
  {
   "cell_type": "code",
   "execution_count": null,
   "outputs": [],
   "source": [],
   "metadata": {
    "collapsed": false
   },
   "id": "367e7249812cad32"
  },
  {
   "cell_type": "markdown",
   "source": [
    "### Part E"
   ],
   "metadata": {
    "collapsed": false
   },
   "id": "2cae9e2faf68b1d4"
  },
  {
   "cell_type": "code",
   "execution_count": null,
   "outputs": [],
   "source": [],
   "metadata": {
    "collapsed": false
   },
   "id": "f8f21c749feb6f1a"
  },
  {
   "cell_type": "markdown",
   "source": [
    "\\pagebreak\n",
    "\n",
    "\\begin{center}\n",
    "\\begin{tabular}{ccc}\n",
    "ME 3613 & Homework 3 & First Last \\\\\n",
    "& & net-id\n",
    "\\end{tabular}\n",
    "\\end{center}\n",
    "\n",
    "# Problem 2\n",
    "## Given\n",
    "\n",
    "![Figure 2](f2.PNG)\n",
    "\n",
    "$$m_1=5\\ kg,\\ m_2=10\\ kg$$\n",
    "\n",
    "$$k_1=85\\ N/m,\\ k_2=30\\ N/m,\\ k_3=500\\ N/m$$\n",
    "\n",
    "$$c_1=4\\ N\\cdot s/m,\\ c_2=3\\ N\\cdot s/m$$\n",
    "\n",
    "$$f(t)=10^{-t}$$\n",
    "\n",
    "The initial conditions are $x_0(0)=0.5$, $\\dot{x_0}(0)=0$, $x_1(0)=0$, $\\dot{x_1}(0)=0$.\n",
    "\n",
    "## Find\n",
    "a. Determine the equations of motion.\n",
    "b. Put the system in the state-variable form.\n",
    "c. Define a state-space object using `ct.ss`.\n",
    "d. Plot the response $x_0(t)$ and $x_1(t)$ (first 10 seconds) on the same plot using the `ct.forced_response` function. You may check the solution using the `odeint` function as well.\n",
    "\n",
    "## Solution\n",
    "### Part A"
   ],
   "metadata": {
    "collapsed": false
   },
   "id": "c3b0d0ad6aab007c"
  },
  {
   "cell_type": "code",
   "execution_count": null,
   "outputs": [],
   "source": [],
   "metadata": {
    "collapsed": false
   },
   "id": "d9156ed23a155a7e"
  },
  {
   "cell_type": "markdown",
   "source": [
    "### Part B"
   ],
   "metadata": {
    "collapsed": false
   },
   "id": "a038e7bc27607af3"
  },
  {
   "cell_type": "code",
   "execution_count": null,
   "outputs": [],
   "source": [],
   "metadata": {
    "collapsed": false
   },
   "id": "f9f0a46a3ecae84"
  },
  {
   "cell_type": "markdown",
   "source": [
    "Note: The state variable model should have no derivatives on the right hand side of each equation.\n",
    "\n",
    "### Part C"
   ],
   "metadata": {
    "collapsed": false
   },
   "id": "e19aa7034ced9521"
  },
  {
   "cell_type": "code",
   "execution_count": null,
   "outputs": [],
   "source": [],
   "metadata": {
    "collapsed": false
   },
   "id": "e3c1a2e4c7c272dd"
  },
  {
   "cell_type": "markdown",
   "source": [
    "### Part D"
   ],
   "metadata": {
    "collapsed": false
   },
   "id": "7d8db5a8b34600ce"
  },
  {
   "cell_type": "code",
   "execution_count": null,
   "outputs": [],
   "source": [],
   "metadata": {
    "collapsed": false
   },
   "id": "153105a64e7c33ec"
  }
 ],
 "metadata": {
  "kernelspec": {
   "display_name": "Python 3",
   "language": "python",
   "name": "python3"
  },
  "language_info": {
   "codemirror_mode": {
    "name": "ipython",
    "version": 2
   },
   "file_extension": ".py",
   "mimetype": "text/x-python",
   "name": "python",
   "nbconvert_exporter": "python",
   "pygments_lexer": "ipython2",
   "version": "2.7.6"
  }
 },
 "nbformat": 4,
 "nbformat_minor": 5
}
