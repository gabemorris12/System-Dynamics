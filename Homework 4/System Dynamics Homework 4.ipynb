{
 "cells": [
  {
   "cell_type": "markdown",
   "source": [
    "\\begin{center}\n",
    "First Last\n",
    "\\end{center}"
   ],
   "metadata": {
    "collapsed": false
   },
   "id": "1c1a95afbee27905"
  },
  {
   "cell_type": "code",
   "execution_count": 1,
   "id": "initial_id",
   "metadata": {
    "collapsed": true,
    "ExecuteTime": {
     "end_time": "2023-10-23T17:22:15.972249800Z",
     "start_time": "2023-10-23T17:22:13.538240900Z"
    }
   },
   "outputs": [],
   "source": [
    "import sympy as sp\n",
    "import control as ct\n",
    "import matplotlib.pyplot as plt\n",
    "import numpy as np\n",
    "from scipy.integrate import odeint\n",
    "\n",
    "# Use whichever pertains to your set-up\n",
    "# plt.style.use('maroon_ipynb.mplstyle')\n",
    "# plt.style.use('../maroon_ipynb.mplstyle')"
   ]
  },
  {
   "cell_type": "markdown",
   "source": [
    "\\pagebreak\n",
    "\\tableofcontents\n",
    "\\pagebreak\n",
    "\n",
    "\\begin{center}\n",
    "\\begin{tabular}{ccc}\n",
    "ME 3613 & Homework 4 & First Last \\\\\n",
    "& & net-id\n",
    "\\end{tabular}\n",
    "\\end{center}\n",
    "\n",
    "# Problem 1\n",
    "## Given\n",
    "\n",
    "![Figure 1](f1.PNG)\n",
    "\n",
    "## Find\n",
    "Find the transfer function $\\frac{Y(s)}{F(s)}$ for the block diagram.\n",
    "\n",
    "## Solution\n",
    "The solution can be determined using two different methods. The first is an algebraic solution where B is the expression after the first block seen above. The second can be determined using the feedback and series functions."
   ],
   "metadata": {
    "collapsed": false
   },
   "id": "17fe6bd900d8118a"
  },
  {
   "cell_type": "code",
   "execution_count": null,
   "outputs": [],
   "source": [],
   "metadata": {
    "collapsed": false
   },
   "id": "7df78675b79b20dc"
  },
  {
   "cell_type": "markdown",
   "source": [
    "\\pagebreak\n",
    "\n",
    "\\begin{center}\n",
    "\\begin{tabular}{ccc}\n",
    "ME 3613 & Homework 4 & First Last \\\\\n",
    "& & net-id\n",
    "\\end{tabular}\n",
    "\\end{center}\n",
    "\n",
    "# Problem 2\n",
    "## Given\n",
    "\n",
    "![Figure 2](f2.PNG)\n",
    "\n",
    "$$L=500\\,mH,\\ C=100\\,\\mu F,\\ R=300\\,\\Omega$$\n",
    "\n",
    "$$v_1=5e^{-t}\\sin(6t)\\,V,\\ v_2=10\\sin(t)\\,V$$\n",
    "\n",
    "All initial conditions are zero.\n",
    "\n",
    "## Find\n",
    "\n",
    "a. The system of ODE's (should be two equations if using mesh currents).\n",
    "b. Solve the system for $i_1$, $i_2$, and $i_3$ as seen the figure above. Use any method to find the result and plot up to 6 seconds.\n",
    "\n",
    "## Solution\n",
    "### Part A"
   ],
   "metadata": {
    "collapsed": false
   },
   "id": "72d0369bbd1fef94"
  },
  {
   "cell_type": "code",
   "execution_count": null,
   "outputs": [],
   "source": [],
   "metadata": {
    "collapsed": false
   },
   "id": "94ebce021e0b826c"
  },
  {
   "cell_type": "markdown",
   "source": [
    "### Part B"
   ],
   "metadata": {
    "collapsed": false
   },
   "id": "8fb39ff16856d4d8"
  },
  {
   "cell_type": "code",
   "execution_count": null,
   "outputs": [],
   "source": [],
   "metadata": {
    "collapsed": false
   },
   "id": "236175d76afbacb5"
  },
  {
   "cell_type": "markdown",
   "source": [
    "\\pagebreak\n",
    "\n",
    "\\begin{center}\n",
    "\\begin{tabular}{ccc}\n",
    "ME 3613 & Homework 4 & First Last \\\\\n",
    "& & net-id\n",
    "\\end{tabular}\n",
    "\\end{center}\n",
    "\n",
    "# Problem 3\n",
    "## Given\n",
    "\n",
    "The system shown below is designed to lift the mass with a stiff chain.\n",
    "\n",
    "![Figure 3](f3.PNG)\n",
    "\n",
    "$$\n",
    "\\begin{gathered}\n",
    "K_T=0.01\\,\\frac{Nm}{A},\\ R_1=0.5\\,\\Omega,\\ L_1=0.002\\,H \\\\\n",
    "I_1=9\\cdot10^{-5}\\,kg\\,m^2,\\ I_2=4\\cdot10^{-5}\\,kg\\,m^2,\\ I_3=1\\cdot10^{-5}\\,kg\\,m^2,\\ I_4=25\\cdot10^{-5}\\,kg\\,m^2 \\\\\n",
    "r_1=7.62\\,cm,\\ r_2=60.96\\,cm,\\ r_3=2.2\\,cm,\\ r_4=13\\,cm \\\\\n",
    "k_1=500\\,N/m,\\ m_1=220\\,kg,\\ \\theta_{m1}=70^\\circ \\\\\n",
    "V_{in}=285\\,V\n",
    "\\end{gathered}\n",
    "$$"
   ],
   "metadata": {
    "collapsed": false,
    "ExecuteTime": {
     "end_time": "2023-10-23T17:04:13.297532Z",
     "start_time": "2023-10-23T17:04:10.503218100Z"
    }
   },
   "id": "29ef99577d4091bc"
  },
  {
   "cell_type": "code",
   "execution_count": 8,
   "outputs": [],
   "source": [
    "# Constants\n",
    "KT, R1, L1, = sp.symbols('K_T R1 L1')\n",
    "I1, I2, I3, I4 = sp.symbols('I1 I2 I3 I4')  # sympy automatically makes the numbers a subscript\n",
    "r1, r2, r3, r4 = sp.symbols('r1 r2 r3 r4')\n",
    "k1, m1, thm1 = sp.symbols(r'k1 m1 \\theta_{m1}')\n",
    "\n",
    "# Other items you should consider using\n",
    "t = sp.Symbol('t')\n",
    "th1, th2, th3, th4 = sp.Function(r'\\theta_1')(t), sp.Function(r'\\theta_2')(t), sp.Function(r'\\theta_3')(t), sp.Function(r'\\theta_4')(t),\n",
    "i = sp.Function('i')(t)\n",
    "x1 = sp.Function('x_1')(t)\n",
    "Vin = sp.Function('V_{in}')(t)  # Input function\n",
    "\n",
    "# The sp.S() function ensures that there is no floating point error\n",
    "sub_values = [\n",
    "    (KT, sp.S('0.01')),\n",
    "    (R1, sp.S('0.5')),\n",
    "    (L1, sp.S('0.002')),\n",
    "    (I1, sp.S('9e-5')),\n",
    "    (I2, sp.S('4e-5')),\n",
    "    (I3, sp.S('1e-5')),\n",
    "    (I4, sp.S('25e-5')),\n",
    "    (r1, sp.S('0.0762')),\n",
    "    (r2, sp.S('0.0762')*8),\n",
    "    (r3, sp.S('0.022')),\n",
    "    (r4, sp.S('0.13')),\n",
    "    (k1, 500),\n",
    "    (m1, 220),\n",
    "    (thm1, sp.rad(70))\n",
    "]\n",
    "\n",
    "\n",
    "Vin_lamb = lambda t_: 285"
   ],
   "metadata": {
    "collapsed": false
   },
   "id": "cd2bc6c39cc36064"
  },
  {
   "cell_type": "markdown",
   "source": [
    "## Find\n",
    "Create a model to determine if the motor is strong enough by finding the following:\n",
    "\n",
    "a. Determine the equivalent inertia ($I_{eq}$) of the gear train involving $I_1$, $I_2$, $I_3$, and $I_4$ as seen by the output shaft 1 of the motor.\n",
    "b. Find the governing ODE's of the system.\n",
    "c. Solve for and plot $x_1(t)$, $\\theta_1(t)$, $\\omega_1(t)$, and $i(t)$ up to 20 seconds.\n",
    "d. Comment on the results. Is the motor able to raise the mass?\n",
    "\n",
    "## Solution\n",
    "### Part A\n",
    "Use the concept of velocity ratios to relate everything back to $\\omega_1$."
   ],
   "metadata": {
    "collapsed": false,
    "ExecuteTime": {
     "end_time": "2023-10-23T17:04:13.322416600Z",
     "start_time": "2023-10-23T17:04:13.296535200Z"
    }
   },
   "id": "76817a5fc276cbcb"
  },
  {
   "cell_type": "code",
   "execution_count": null,
   "outputs": [],
   "source": [],
   "metadata": {
    "collapsed": false
   },
   "id": "b234695e34cf5af5"
  },
  {
   "cell_type": "markdown",
   "source": [
    "### Part B"
   ],
   "metadata": {
    "collapsed": false,
    "ExecuteTime": {
     "end_time": "2023-10-23T17:04:13.762425400Z",
     "start_time": "2023-10-23T17:04:13.633630400Z"
    }
   },
   "id": "ad284e8fa83d46ac"
  },
  {
   "cell_type": "code",
   "execution_count": null,
   "outputs": [],
   "source": [],
   "metadata": {
    "collapsed": false
   },
   "id": "ed99f856922a5443"
  },
  {
   "cell_type": "markdown",
   "source": [
    "### Part C\n",
    "The best way to solve this is to put it in the state variable form."
   ],
   "metadata": {
    "collapsed": false,
    "ExecuteTime": {
     "end_time": "2023-10-23T17:04:13.855104300Z",
     "start_time": "2023-10-23T17:04:13.713791600Z"
    }
   },
   "id": "40ada5c5f298ae51"
  },
  {
   "cell_type": "code",
   "execution_count": null,
   "outputs": [],
   "source": [],
   "metadata": {
    "collapsed": false
   },
   "id": "b82f933a2dc00847"
  },
  {
   "cell_type": "markdown",
   "source": [
    "### Part D\n",
    "\n",
    "*type answer here*"
   ],
   "metadata": {
    "collapsed": false,
    "ExecuteTime": {
     "end_time": "2023-10-23T17:04:16.254887400Z",
     "start_time": "2023-10-23T17:04:14.691190300Z"
    }
   },
   "id": "7ed476747c4a8cad"
  }
 ],
 "metadata": {
  "kernelspec": {
   "display_name": "Python 3",
   "language": "python",
   "name": "python3"
  },
  "language_info": {
   "codemirror_mode": {
    "name": "ipython",
    "version": 2
   },
   "file_extension": ".py",
   "mimetype": "text/x-python",
   "name": "python",
   "nbconvert_exporter": "python",
   "pygments_lexer": "ipython2",
   "version": "2.7.6"
  }
 },
 "nbformat": 4,
 "nbformat_minor": 5
}
