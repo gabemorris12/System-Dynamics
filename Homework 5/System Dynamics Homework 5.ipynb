{
 "cells": [
  {
   "cell_type": "markdown",
   "source": [
    "\\begin{center}\n",
    "First Last\n",
    "\\end{center}"
   ],
   "metadata": {
    "collapsed": false
   },
   "id": "9a284d073477eba1"
  },
  {
   "cell_type": "code",
   "execution_count": 1,
   "id": "initial_id",
   "metadata": {
    "collapsed": true,
    "ExecuteTime": {
     "end_time": "2023-11-28T18:18:38.558094600Z",
     "start_time": "2023-11-28T18:18:36.549446500Z"
    }
   },
   "outputs": [],
   "source": [
    "import control as ct\n",
    "import sympy as sp\n",
    "import numpy as np\n",
    "import matplotlib.pyplot as plt\n",
    "from scipy.optimize import fsolve\n",
    "\n",
    "# Use whichever pertains to your set-up\n",
    "# plt.style.use('maroon_ipynb.mplstyle')\n",
    "# plt.style.use('../maroon_ipynb.mplstyle')"
   ]
  },
  {
   "cell_type": "markdown",
   "source": [
    "\\pagebreak\n",
    "\n",
    "\\pagebreak\n",
    "\\tableofcontents\n",
    "\\pagebreak\n",
    "\n",
    "\\begin{center}\n",
    "\\begin{tabular}{ccc}\n",
    "ME 3613 & Homework 5 & First Last \\\\\n",
    "& & net-id\n",
    "\\end{tabular}\n",
    "\\end{center}\n",
    "\n",
    "# Problem 1\n",
    "## Given\n",
    "\n",
    "![Figure 1](f1.PNG)\n",
    "\n",
    "The mass above is being controlled by the input position $y(t)$. Take $k_1=10\\,\\frac{lbf}{in}$, $k_2=100\\,\\frac{lbf}{in}$, $c_1=1\\,\\frac{lbf\\,s}{in}$, and $m_1=0.0518\\,goobs$ where $1\\,goob=\\frac{lbs\\,s^2}{in}$. The number comes from the mass weighing $20\\,lbf$.\n",
    "\n",
    "$$\n",
    "\\begin{gathered}\n",
    "W=mg \\\\\n",
    "20\\,lbf=m\\cdot32.2\\,\\frac{ft}{s^2} \\\\\n",
    "m=\\frac{20}{32.2}\\,slugs=0.621\\,\\frac{lbf\\,s^2}{ft}\\cdot\\frac{ft}{12\\,in}=0.0518\\frac{lbf\\,s^2}{in}=0.0518\\,goobs\n",
    "\\end{gathered}\n",
    "$$\n",
    "\n",
    "## Find\n",
    "For $y(t)=1.5\\sin(\\omega_r t)$, \n",
    "\n",
    "a. Find the equation of motion.\n",
    "b. Find the transfer function $\\frac{X(s)}{Y(s)}$.\n",
    "c. Plot the Magnitude ($M(\\omega)$ - not in decibels) and Phase Response for $1\\le\\omega\\le1000\\,rad/s$. Use the `bode()` function for checking. Note, the `bode()` function will produce a log-log plot on the y and x-axis, so the usual plot of $M(\\omega)$ will look different, since we use a linear scale for the y-axis.\n",
    "d. Find the resonant frequency $\\omega_r$.\n",
    "e. Find the steady state function $x_{ss}(t)$ at the resonant frequency and plot the forced response on top of the steady state response up to 1 second.\n",
    "\n",
    "## Solution\n",
    "### Part A - Finding the Equation of Motion"
   ],
   "metadata": {
    "collapsed": false
   },
   "id": "7eca339cc300a9e1"
  },
  {
   "cell_type": "code",
   "execution_count": null,
   "outputs": [],
   "source": [],
   "metadata": {
    "collapsed": false
   },
   "id": "fe8d1cfd26243f9c"
  },
  {
   "cell_type": "markdown",
   "source": [
    "### Part B - Finding the Transfer Function"
   ],
   "metadata": {
    "collapsed": false
   },
   "id": "8fd854795c547f2d"
  },
  {
   "cell_type": "code",
   "execution_count": null,
   "outputs": [],
   "source": [],
   "metadata": {
    "collapsed": false
   },
   "id": "16e4647e7360e62b"
  },
  {
   "cell_type": "markdown",
   "source": [
    "### Part C - Plotting the Frequency Response"
   ],
   "metadata": {
    "collapsed": false
   },
   "id": "653b4010e1ff42e9"
  },
  {
   "cell_type": "code",
   "execution_count": null,
   "outputs": [],
   "source": [],
   "metadata": {
    "collapsed": false
   },
   "id": "20dda21e3a068959"
  },
  {
   "cell_type": "markdown",
   "source": [
    "### Part D - Finding the Resonant Frequency"
   ],
   "metadata": {
    "collapsed": false
   },
   "id": "750691e8bd2f6578"
  },
  {
   "cell_type": "code",
   "execution_count": null,
   "outputs": [],
   "source": [],
   "metadata": {
    "collapsed": false
   },
   "id": "dc29f4ac8c50b37a"
  },
  {
   "cell_type": "markdown",
   "source": [
    "### Part E - Finding the Response at the Resonant Frequency"
   ],
   "metadata": {
    "collapsed": false
   },
   "id": "aaef4a96996eb91f"
  },
  {
   "cell_type": "code",
   "execution_count": null,
   "outputs": [],
   "source": [],
   "metadata": {
    "collapsed": false
   },
   "id": "f021d97fc20a3107"
  },
  {
   "cell_type": "markdown",
   "source": [
    "\\pagebreak\n",
    "\n",
    "\\begin{center}\n",
    "\\begin{tabular}{ccc}\n",
    "ME 3613 & Homework 5 & First Last \\\\\n",
    "& & net-id\n",
    "\\end{tabular}\n",
    "\\end{center}\n",
    "\n",
    "# Problem 2\n",
    "## Given\n",
    "A certain series RLC circuit has the following transfer function.\n",
    "\n",
    "$$\n",
    "T(s)=\\frac{I(s)}{V(s)}=\\frac{C s}{L C s^2+R C s+1}\n",
    "$$\n",
    "\n",
    "Suppose that $L=300\\,H$, $R=10^4\\,\\Omega$, and $C=10^{-6}\\,F$.\n",
    "\n",
    "## Find\n",
    "Determine the filtering properties by\n",
    "\n",
    "a. Deriving the equations for the magnitude and the phase.\n",
    "b. Plot the magnitude ($m(\\omega)$) and phase and use the analytical solution above for checking.\n",
    "c. Find the bandwidth from $\\omega_1$ to $\\omega_2$. What kind of filter is this (i.e. low-pass, band-pass, or high-pass)? Note: The relationship for finding $\\omega_r$ is not valid for this example because of the presence of the $s$ in the numerator of the transfer function. So, just find the peak $M_{peak}$ by using the `max()` function.\n",
    "\n",
    "## Solution\n",
    "### Part A - Finding Magnitude and Phase Equations"
   ],
   "metadata": {
    "collapsed": false
   },
   "id": "4b0fcc0f7b81e9fb"
  },
  {
   "cell_type": "code",
   "execution_count": null,
   "outputs": [],
   "source": [],
   "metadata": {
    "collapsed": false
   },
   "id": "9396a42d69e929bc"
  },
  {
   "cell_type": "markdown",
   "source": [
    "### Part B - Plotting the Frequency Response"
   ],
   "metadata": {
    "collapsed": false
   },
   "id": "b6b0b54a43228d6"
  },
  {
   "cell_type": "code",
   "execution_count": null,
   "outputs": [],
   "source": [],
   "metadata": {
    "collapsed": false
   },
   "id": "f0ed91e59a931dbe"
  },
  {
   "cell_type": "markdown",
   "source": [
    "### Part C - Finding the Bandwidth"
   ],
   "metadata": {
    "collapsed": false
   },
   "id": "5168b8efa0db6815"
  },
  {
   "cell_type": "code",
   "execution_count": null,
   "outputs": [],
   "source": [],
   "metadata": {
    "collapsed": false
   },
   "id": "6c8ff97ee456b628"
  }
 ],
 "metadata": {
  "kernelspec": {
   "display_name": "Python 3",
   "language": "python",
   "name": "python3"
  },
  "language_info": {
   "codemirror_mode": {
    "name": "ipython",
    "version": 2
   },
   "file_extension": ".py",
   "mimetype": "text/x-python",
   "name": "python",
   "nbconvert_exporter": "python",
   "pygments_lexer": "ipython2",
   "version": "2.7.6"
  }
 },
 "nbformat": 4,
 "nbformat_minor": 5
}
