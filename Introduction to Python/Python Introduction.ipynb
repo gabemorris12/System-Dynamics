{
 "cells": [
  {
   "cell_type": "markdown",
   "source": [
    "\\pagebreak\n",
    "\\tableofcontents\n",
    "\\pagebreak\n",
    "\n",
    "# Introduction\n",
    "Python is a versatile and high-level programming language that has gained immense popularity in the world of software development and data science. Created by Guido van Rossum and first released in 1991, Python is known for its simplicity, readability, and a vast ecosystem of libraries and frameworks that make it suitable for a wide range of applications. Python is an excellent choice for engineering for the following reasons:\n",
    "\n",
    "* Readability: Python's syntax is clear and easy to read, making it an ideal language for both beginners and experienced programmers. Its use of indentation (whitespace) to define code blocks enforces clean and consistent coding practices.\n",
    "* Versatility: Python is a general-purpose programming language, which means it can be used for a wide variety of tasks, from web development and data analysis to artificial intelligence and scientific computing.\n",
    "* Extensive Libraries: Python boasts a rich ecosystem of libraries and frameworks that simplify complex tasks. For example, libraries like NumPy, Pandas, and Matplotlib are essential for data manipulation and visualization, while Django and Flask are popular choices for web development.\n",
    "* Cross-Platform: Python is available on multiple operating systems, including Windows, macOS, and various Linux distributions, making it highly portable.\n",
    "* Community and Support: Python has a large and active community of developers who contribute to its growth and provide support through forums, online tutorials, and extensive documentation.\n",
    "* Interpreted Language: Python is an interpreted language, which means you can write and run code directly without the need for compilation. This feature speeds up development and debugging.\n",
    "* Object-Oriented: Python supports object-oriented programming (OOP) principles, allowing you to create reusable and organized code structures.\n",
    "* Dynamic Typing: Python uses dynamic typing, meaning you don't need to specify variable types explicitly. This makes code more concise and flexible but requires careful attention to variable naming and usage.\n",
    "* Scalability: While Python may not be the fastest language for all tasks, it offers good scalability through libraries that interface with lower-level languages like C/C++ for performance-critical code sections.\n",
    "* Open Source (Free): Python is open-source, which means it's freely available, and you can modify and distribute it according to open-source licenses.\n",
    "\n",
    "Python's popularity continues to grow in fields like web development, data analysis, machine learning, and automation due to its simplicity, versatility, and the ever-expanding ecosystem of libraries and frameworks. Whether you're a beginner or an experienced developer, Python is an excellent language to learn and add to your toolkit for various programming tasks.\n",
    "\n",
    "## Variable Types\n",
    "With any programming language, it is essential to know how to define and manipulate the different built-in variable types. For python, the most widely used variable types are:\n",
    "\n",
    "* Numeric Types:\n",
    "    * int: Represents integers, such as 1, -5, 1000.\n",
    "    * float: Represents floating-point numbers with decimal places, such as 3.14, -0.01, 2.0.\n",
    "    * complex: Represents complex numbers in the form a + bj, where a and b are floating-point numbers and j represents the imaginary unit (e.g., 3 + 2j).\n",
    "* Text Type:\n",
    "    * str: Represents strings of characters, enclosed in single (`' '`), double (`\" \"`), or triple (`''' '''` or `\"\"\" \"\"\"`) quotes, such as `\"Hello, World!\"` or `'Python'`. Triple quotes are used for mult-line strings and are also used for documentation.\n",
    "* Sequence Types:\n",
    "    * list: Mutable collections of items. Lists are defined using square brackets, e.g., `[1, 2, 3]`.\n",
    "    * tuple: Immutable collections of items. Tuples are defined using parentheses, e.g., `(1, 2, 3)`.\n",
    "    * set: Mutable collection of items. Sets are defined using curly braces, e.g., `{1, 2, 3}`.\n",
    " * Mapping Type:\n",
    "    * dict: Collections of key-value pairs. Dictionaries are defined using curly braces and colons, e.g., `{'name': 'John', 'age': 30}`.\n",
    " * Boolean Type:\n",
    "    * bool: Represents Boolean values, either `True` or `False` and is used for logical operations.\n",
    " * None Type:\n",
    "    * NoneType: Represents the absence of a value. It is often used to signify the absence of a return value from functions or methods.\n",
    " * Custom Types:\n",
    "    * You can define your own custom data types using classes.\n",
    " \n",
    "Python's dynamic typing allows you to change the type of variable by reassigning it with a value of a different type. For example, you can initialize a variable with an integer and later assign it a string value.\n",
    "\n",
    "---\n",
    "Example: Define variables for each commonly used variable type."
   ],
   "metadata": {
    "collapsed": false
   },
   "id": "a191aa774dfecffe"
  },
  {
   "cell_type": "code",
   "execution_count": 1,
   "outputs": [],
   "source": [
    "# Numeric types\n",
    "integer_variable = 42\n",
    "float_variable = 3.14\n",
    "complex_variable = 2 + 3j\n",
    "\n",
    "# Text type\n",
    "string_variable = \"Hello, Python!\"\n",
    "\n",
    "# Sequence types\n",
    "list_variable = [1, 2, 3]\n",
    "tuple_variable = (4, 5, 6)\n",
    "set_variable = {7, 8, 9}\n",
    "\n",
    "# Mapping type\n",
    "dict_variable = {'name': 'Alice', 'age': 25}\n",
    "\n",
    "# Boolean type\n",
    "bool_variable = True\n",
    "\n",
    "# None type\n",
    "none_variable = None"
   ],
   "metadata": {
    "collapsed": false,
    "ExecuteTime": {
     "end_time": "2023-09-14T15:09:50.226362800Z",
     "start_time": "2023-09-14T15:09:49.232414300Z"
    }
   },
   "id": "e1042c49ba28070c"
  },
  {
   "cell_type": "markdown",
   "source": [
    "---\n",
    "\n",
    "### Numeric Types\n",
    "Learning concepts for numeric data types in Python involve understanding how to work with integers, floating-point numbers, and complex numbers, as well as common operations and conversions.\n",
    "\n",
    "---\n",
    "Example: Show some of the common operations between integers, float, and complex datatypes."
   ],
   "metadata": {
    "collapsed": false
   },
   "id": "f45c6df815b095b0"
  },
  {
   "cell_type": "code",
   "execution_count": 2,
   "outputs": [
    {
     "data": {
      "text/plain": "15"
     },
     "metadata": {},
     "output_type": "display_data"
    },
    {
     "data": {
      "text/plain": "5"
     },
     "metadata": {},
     "output_type": "display_data"
    },
    {
     "data": {
      "text/plain": "50"
     },
     "metadata": {},
     "output_type": "display_data"
    },
    {
     "data": {
      "text/plain": "2.0"
     },
     "metadata": {},
     "output_type": "display_data"
    },
    {
     "data": {
      "text/plain": "100000"
     },
     "metadata": {},
     "output_type": "display_data"
    },
    {
     "data": {
      "text/plain": "0"
     },
     "metadata": {},
     "output_type": "display_data"
    }
   ],
   "source": [
    "# Integers\n",
    "x = 10\n",
    "y = 5\n",
    "# x, y = 10, 5  # Better way to define multiple variables\n",
    "\n",
    "# Floats\n",
    "x_float, y_float = float(x), float(y)  # Conversion to int can be done through int() function. Same is true for all the datatypes.\n",
    "\n",
    "# Complex\n",
    "x_complex, y_complex = 2 + 3j, 1 - 2j\n",
    "\n",
    "addition_result = x + y  # 15\n",
    "subtraction_result = x - y  # 5\n",
    "multiplication_result = x * y  # 50\n",
    "division_result = x / y  # 2.0 (Note: Division always returns a float in Python 3)\n",
    "power_result = x ** y  # 100_000\n",
    "modulus_result = x % y  # 0 (Remainder of division)\n",
    "\n",
    "# You can display them in jupyter using built-in display() function.\n",
    "# This is essentially the print() statement, but tailored for jupyter notebooks.\n",
    "display(addition_result, subtraction_result, multiplication_result, division_result, power_result, modulus_result)"
   ],
   "metadata": {
    "collapsed": false,
    "ExecuteTime": {
     "end_time": "2023-09-14T15:09:50.344045700Z",
     "start_time": "2023-09-14T15:09:49.244142Z"
    }
   },
   "id": "36f9aba42c5ed1cc"
  },
  {
   "cell_type": "code",
   "execution_count": 3,
   "outputs": [
    {
     "data": {
      "text/plain": "15.0"
     },
     "metadata": {},
     "output_type": "display_data"
    },
    {
     "data": {
      "text/plain": "5.0"
     },
     "metadata": {},
     "output_type": "display_data"
    },
    {
     "data": {
      "text/plain": "50.0"
     },
     "metadata": {},
     "output_type": "display_data"
    },
    {
     "data": {
      "text/plain": "2.0"
     },
     "metadata": {},
     "output_type": "display_data"
    },
    {
     "data": {
      "text/plain": "100000.0"
     },
     "metadata": {},
     "output_type": "display_data"
    }
   ],
   "source": [
    "# For the floats\n",
    "addition_result = x_float + y_float  # 15.0\n",
    "subtraction_result = x_float - y_float  # 5.0\n",
    "multiplication_result = x_float * y_float  # 50.0\n",
    "division_result = x_float / y_float  # 2.0\n",
    "power_result = x_float ** y_float  # 100000.0\n",
    "display(addition_result, subtraction_result, multiplication_result, division_result, power_result)"
   ],
   "metadata": {
    "collapsed": false,
    "ExecuteTime": {
     "end_time": "2023-09-14T15:09:50.459736600Z",
     "start_time": "2023-09-14T15:09:49.266161200Z"
    }
   },
   "id": "6177b0ffedb98dc7"
  },
  {
   "cell_type": "code",
   "execution_count": 4,
   "outputs": [
    {
     "data": {
      "text/plain": "(3+1j)"
     },
     "metadata": {},
     "output_type": "display_data"
    },
    {
     "data": {
      "text/plain": "(1+5j)"
     },
     "metadata": {},
     "output_type": "display_data"
    },
    {
     "data": {
      "text/plain": "(8-1j)"
     },
     "metadata": {},
     "output_type": "display_data"
    },
    {
     "data": {
      "text/plain": "(-0.8+1.4j)"
     },
     "metadata": {},
     "output_type": "display_data"
    }
   ],
   "source": [
    "# For the complex numbers\n",
    "addition_result = x_complex + y_complex\n",
    "subtraction_result = x_complex - y_complex\n",
    "multiplication_result = x_complex * y_complex\n",
    "division_result = x_complex / y_complex\n",
    "display(addition_result, subtraction_result, multiplication_result, division_result)"
   ],
   "metadata": {
    "collapsed": false,
    "ExecuteTime": {
     "end_time": "2023-09-14T15:09:50.487661200Z",
     "start_time": "2023-09-14T15:09:49.281548100Z"
    }
   },
   "id": "71e58be5d03f8ed6"
  },
  {
   "cell_type": "markdown",
   "source": [
    "If there is a need for trig functions, square root functions, etc., the built in `math` module can be used. **Note:** There is very seldom a need for the `math` module when you have `numpy` imported."
   ],
   "metadata": {
    "collapsed": false
   },
   "id": "caf1df85ca5bed78"
  },
  {
   "cell_type": "code",
   "execution_count": 5,
   "outputs": [
    {
     "data": {
      "text/plain": "5.0"
     },
     "metadata": {},
     "output_type": "display_data"
    },
    {
     "data": {
      "text/plain": "0.49999999999999994"
     },
     "metadata": {},
     "output_type": "display_data"
    }
   ],
   "source": [
    "# More operations\n",
    "import math\n",
    "\n",
    "sqrt_result = math.sqrt(25)\n",
    "sine_result = math.sin(math.radians(30))\n",
    "display(sqrt_result, sine_result)"
   ],
   "metadata": {
    "collapsed": false,
    "ExecuteTime": {
     "end_time": "2023-09-14T15:09:50.515604200Z",
     "start_time": "2023-09-14T15:09:49.294259500Z"
    }
   },
   "id": "c8d46d34d8a549a5"
  },
  {
   "cell_type": "code",
   "execution_count": 6,
   "outputs": [
    {
     "data": {
      "text/plain": "False"
     },
     "execution_count": 6,
     "metadata": {},
     "output_type": "execute_result"
    }
   ],
   "source": [
    "# Numeric comparisons\n",
    "x, y, z = 3, 7, 3\n",
    "\n",
    "x > y"
   ],
   "metadata": {
    "collapsed": false,
    "ExecuteTime": {
     "end_time": "2023-09-14T15:09:50.543509300Z",
     "start_time": "2023-09-14T15:09:49.309529800Z"
    }
   },
   "id": "3edd426696eca29b"
  },
  {
   "cell_type": "code",
   "execution_count": 7,
   "outputs": [
    {
     "data": {
      "text/plain": "True"
     },
     "execution_count": 7,
     "metadata": {},
     "output_type": "execute_result"
    }
   ],
   "source": [
    "x >= z"
   ],
   "metadata": {
    "collapsed": false,
    "ExecuteTime": {
     "end_time": "2023-09-14T15:09:50.543509300Z",
     "start_time": "2023-09-14T15:09:49.321030800Z"
    }
   },
   "id": "c5a942881d660bbf"
  },
  {
   "cell_type": "code",
   "execution_count": 8,
   "outputs": [
    {
     "data": {
      "text/plain": "True"
     },
     "execution_count": 8,
     "metadata": {},
     "output_type": "execute_result"
    }
   ],
   "source": [
    "x == z"
   ],
   "metadata": {
    "collapsed": false,
    "ExecuteTime": {
     "end_time": "2023-09-14T15:09:50.545505400Z",
     "start_time": "2023-09-14T15:09:49.329612300Z"
    }
   },
   "id": "8d4ef12729780411"
  },
  {
   "cell_type": "markdown",
   "source": [
    "---\n",
    "\n",
    "### Strings\n",
    "Learning concepts for string data types in Python involve understanding how to create, manipulate, and work with text-based data.\n",
    "\n",
    "---\n",
    "Example: Show string operations, indexing/slicing, some built in string methods, formatting, and escaping."
   ],
   "metadata": {
    "collapsed": false
   },
   "id": "a1f9f0ed20348c58"
  },
  {
   "cell_type": "code",
   "execution_count": 9,
   "outputs": [
    {
     "data": {
      "text/plain": "'John Davis'"
     },
     "metadata": {},
     "output_type": "display_data"
    },
    {
     "data": {
      "text/plain": "'JohnJohnJohn'"
     },
     "metadata": {},
     "output_type": "display_data"
    }
   ],
   "source": [
    "# String operations\n",
    "first, last = 'John', 'Davis'\n",
    "\n",
    "string_add = first + \" \" + last  # Concatenation\n",
    "string_replication = first*3  # Replication\n",
    "display(string_add, string_replication)"
   ],
   "metadata": {
    "collapsed": false,
    "ExecuteTime": {
     "end_time": "2023-09-14T15:09:50.545505400Z",
     "start_time": "2023-09-14T15:09:49.339721200Z"
    }
   },
   "id": "cc1b0dd87cecad95"
  },
  {
   "cell_type": "code",
   "execution_count": 10,
   "outputs": [
    {
     "data": {
      "text/plain": "'S'"
     },
     "metadata": {},
     "output_type": "display_data"
    },
    {
     "data": {
      "text/plain": "'s'"
     },
     "metadata": {},
     "output_type": "display_data"
    },
    {
     "data": {
      "text/plain": "'stem'"
     },
     "metadata": {},
     "output_type": "display_data"
    }
   ],
   "source": [
    "# Indexing/Slicing\n",
    "text = \"System Dynamics\"\n",
    "\n",
    "first_character = text[0]  # indexing starts at zero\n",
    "last_character = text[-1]\n",
    "substring = text[2:6]\n",
    "display(first_character, last_character, substring)"
   ],
   "metadata": {
    "collapsed": false,
    "ExecuteTime": {
     "end_time": "2023-09-14T15:09:50.546501600Z",
     "start_time": "2023-09-14T15:09:49.356506Z"
    }
   },
   "id": "c7ace96c5345efd1"
  },
  {
   "cell_type": "code",
   "execution_count": 11,
   "outputs": [
    {
     "data": {
      "text/plain": "'   Python Programming   \\n'"
     },
     "metadata": {},
     "output_type": "display_data"
    },
    {
     "data": {
      "text/plain": "'Python Programming'"
     },
     "metadata": {},
     "output_type": "display_data"
    },
    {
     "data": {
      "text/plain": "'PYTHON PROGRAMMING'"
     },
     "metadata": {},
     "output_type": "display_data"
    },
    {
     "data": {
      "text/plain": "'python programming'"
     },
     "metadata": {},
     "output_type": "display_data"
    },
    {
     "data": {
      "text/plain": "'C++ Programming'"
     },
     "metadata": {},
     "output_type": "display_data"
    },
    {
     "data": {
      "text/plain": "['Python', 'Programming']"
     },
     "metadata": {},
     "output_type": "display_data"
    }
   ],
   "source": [
    "# Some built-in string methods\n",
    "text = \"   Python Programming   \\n\"\n",
    "\n",
    "cleaned_text = text.strip()  # Removed unwanted whitespace at the end and beginning of the string\n",
    "uppercase_text = cleaned_text.upper()  # Makes all characters uppercase\n",
    "lowercase_text = cleaned_text.lower()  # Makes all characters lowercase\n",
    "replace_text = cleaned_text.replace('Python', 'C++')  # Replaces text\n",
    "split_text = cleaned_text.split(' ')  # Returns a list of the text split at given string value\n",
    "display(text, cleaned_text, uppercase_text, lowercase_text, replace_text, split_text)"
   ],
   "metadata": {
    "collapsed": false,
    "ExecuteTime": {
     "end_time": "2023-09-14T15:09:50.547499Z",
     "start_time": "2023-09-14T15:09:49.373678600Z"
    }
   },
   "id": "a3563bcc848fcd1"
  },
  {
   "cell_type": "code",
   "execution_count": 12,
   "outputs": [
    {
     "data": {
      "text/plain": "'My name is John, and I am 22 years old.'"
     },
     "metadata": {},
     "output_type": "display_data"
    },
    {
     "data": {
      "text/plain": "'This is pi formatted to 5 digits: 3.14159.'"
     },
     "metadata": {},
     "output_type": "display_data"
    }
   ],
   "source": [
    "# Formatting\n",
    "name, age = 'John', 22\n",
    "\n",
    "formatted_string = f'My name is {name}, and I am {age} years old.'\n",
    "# formatted_string = 'My name is {}, and I am {} years old.'.format(name, age)  # Same thing\n",
    "\n",
    "formatted_number = f'This is pi formatted to 5 digits: {math.pi:.5f}.'\n",
    "display(formatted_string, formatted_number)"
   ],
   "metadata": {
    "collapsed": false,
    "ExecuteTime": {
     "end_time": "2023-09-14T15:09:50.548497300Z",
     "start_time": "2023-09-14T15:09:49.389291600Z"
    }
   },
   "id": "97cad3fd82074cbf"
  },
  {
   "cell_type": "code",
   "execution_count": 13,
   "outputs": [
    {
     "data": {
      "text/plain": "'Escape a newline using \\\\n'"
     },
     "execution_count": 13,
     "metadata": {},
     "output_type": "execute_result"
    }
   ],
   "source": [
    "# String escaping (add extra \\)\n",
    "special_characters = 'Escape a newline using \\\\n'\n",
    "special_characters"
   ],
   "metadata": {
    "collapsed": false,
    "ExecuteTime": {
     "end_time": "2023-09-14T15:09:50.554482400Z",
     "start_time": "2023-09-14T15:09:49.400669800Z"
    }
   },
   "id": "79d85e8b6c699300"
  },
  {
   "cell_type": "code",
   "execution_count": 14,
   "outputs": [
    {
     "name": "stdout",
     "output_type": "stream",
     "text": [
      "Escape a newline using \\n\n"
     ]
    }
   ],
   "source": [
    "print(special_characters)"
   ],
   "metadata": {
    "collapsed": false,
    "ExecuteTime": {
     "end_time": "2023-09-14T15:09:50.555478600Z",
     "start_time": "2023-09-14T15:09:49.415853600Z"
    }
   },
   "id": "12202f3fcd6473b2"
  },
  {
   "cell_type": "code",
   "execution_count": 15,
   "outputs": [
    {
     "data": {
      "text/plain": "'Escape a newline using \\\\n'"
     },
     "execution_count": 15,
     "metadata": {},
     "output_type": "execute_result"
    }
   ],
   "source": [
    "# Alternatively, define a raw string\n",
    "special_characters = r'Escape a newline using \\n'\n",
    "special_characters"
   ],
   "metadata": {
    "collapsed": false,
    "ExecuteTime": {
     "end_time": "2023-09-14T15:09:50.555478600Z",
     "start_time": "2023-09-14T15:09:49.430997400Z"
    }
   },
   "id": "770d4a489817e479"
  },
  {
   "cell_type": "markdown",
   "source": [
    "---\n",
    "\n",
    "There are many more features available with strings, but one module to note is the built-in `re` module (regular expressions), which is capable of finding patterns in text (i.e. phone numbers, email addresses, etc.).\n",
    "\n",
    "### Python Lists\n",
    "Lists are an essential datatype, and they provide a means for storing and operating on large data sets. **Note:** Python lists behave quite differently compared to numpy arrays.\n",
    "\n",
    "---\n",
    "Example: Show how to index/slice, operations with lists, some important methods associated with lists, and some functions associated with lists."
   ],
   "metadata": {
    "collapsed": false
   },
   "id": "97753fe1e8dc63d"
  },
  {
   "cell_type": "code",
   "execution_count": 16,
   "outputs": [
    {
     "data": {
      "text/plain": "'Mississippi'"
     },
     "metadata": {},
     "output_type": "display_data"
    },
    {
     "data": {
      "text/plain": "'Texas'"
     },
     "metadata": {},
     "output_type": "display_data"
    },
    {
     "data": {
      "text/plain": "'Florida'"
     },
     "metadata": {},
     "output_type": "display_data"
    },
    {
     "data": {
      "text/plain": "['Alabama', 'Mississippi', 'Georgia']"
     },
     "metadata": {},
     "output_type": "display_data"
    },
    {
     "data": {
      "text/plain": "['Alabama', 'Georgia', 'Texas']"
     },
     "metadata": {},
     "output_type": "display_data"
    }
   ],
   "source": [
    "# Indexing/slicing\n",
    "states = ['Alabama', 'Mississippi', 'Georgia', 'Florida', 'Texas']\n",
    "\n",
    "second = states[1]  # Mississippi (indexing starts at zero)\n",
    "last = states[-1]\n",
    "second_to_last = states[-2]\n",
    "first_three = states[:3]  # does not include index 3\n",
    "every_other = states[::2]  # [start:stop:step]\n",
    "display(second, last, second_to_last, first_three, every_other)"
   ],
   "metadata": {
    "collapsed": false,
    "ExecuteTime": {
     "end_time": "2023-09-14T15:09:50.563456700Z",
     "start_time": "2023-09-14T15:09:49.444370300Z"
    }
   },
   "id": "96ddc8b23824fbb5"
  },
  {
   "cell_type": "code",
   "execution_count": 17,
   "outputs": [
    {
     "data": {
      "text/plain": "['apple', 'banana', 'carrot', 'lettuce']"
     },
     "metadata": {},
     "output_type": "display_data"
    },
    {
     "data": {
      "text/plain": "['apple', 'banana', 'apple', 'banana', 'apple', 'banana']"
     },
     "metadata": {},
     "output_type": "display_data"
    },
    {
     "data": {
      "text/plain": "True"
     },
     "metadata": {},
     "output_type": "display_data"
    }
   ],
   "source": [
    "# Operations (similar to strings)\n",
    "fruits = ['apple', 'banana']\n",
    "veggies = ['carrot', 'lettuce']\n",
    "\n",
    "combined = fruits + veggies  # adding concatenates\n",
    "repeated = fruits*3  # multiplying will duplicate the list\n",
    "is_apple_in_there = 'apple' in fruits\n",
    "display(combined, repeated, is_apple_in_there)"
   ],
   "metadata": {
    "collapsed": false,
    "ExecuteTime": {
     "end_time": "2023-09-14T15:09:50.564453700Z",
     "start_time": "2023-09-14T15:09:49.464330300Z"
    }
   },
   "id": "463a869fa615b33"
  },
  {
   "cell_type": "code",
   "execution_count": 18,
   "outputs": [
    {
     "data": {
      "text/plain": "[3, 1, 4, 1, 5, 9, 2, 6, 5, 3, 5, 12]"
     },
     "execution_count": 18,
     "metadata": {},
     "output_type": "execute_result"
    }
   ],
   "source": [
    "# Some important methods\n",
    "numbers = [3, 1, 4, 1, 5, 9, 2, 6, 5, 3, 5]\n",
    "numbers.append(12)\n",
    "numbers"
   ],
   "metadata": {
    "collapsed": false,
    "ExecuteTime": {
     "end_time": "2023-09-14T15:09:50.564453700Z",
     "start_time": "2023-09-14T15:09:49.479871900Z"
    }
   },
   "id": "6797992e3e11e970"
  },
  {
   "cell_type": "code",
   "execution_count": 19,
   "outputs": [
    {
     "data": {
      "text/plain": "[3, 17, 1, 4, 1, 5, 9, 2, 6, 5, 3, 5, 12]"
     },
     "execution_count": 19,
     "metadata": {},
     "output_type": "execute_result"
    }
   ],
   "source": [
    "numbers.insert(1, 17)\n",
    "numbers"
   ],
   "metadata": {
    "collapsed": false,
    "ExecuteTime": {
     "end_time": "2023-09-14T15:09:50.564453700Z",
     "start_time": "2023-09-14T15:09:49.491238300Z"
    }
   },
   "id": "58b469132d9608d0"
  },
  {
   "cell_type": "code",
   "execution_count": 20,
   "outputs": [
    {
     "data": {
      "text/plain": "[17, 1, 4, 1, 5, 9, 2, 6, 5, 3, 5, 12]"
     },
     "execution_count": 20,
     "metadata": {},
     "output_type": "execute_result"
    }
   ],
   "source": [
    "numbers.remove(3)  # If there are duplicates, it will only remove the first one it sees\n",
    "numbers"
   ],
   "metadata": {
    "collapsed": false,
    "ExecuteTime": {
     "end_time": "2023-09-14T15:09:50.565451300Z",
     "start_time": "2023-09-14T15:09:49.502116600Z"
    }
   },
   "id": "1e9f35def108da46"
  },
  {
   "cell_type": "code",
   "execution_count": 21,
   "outputs": [
    {
     "data": {
      "text/plain": "3"
     },
     "execution_count": 21,
     "metadata": {},
     "output_type": "execute_result"
    }
   ],
   "source": [
    "numbers.count(5)  # returns a value"
   ],
   "metadata": {
    "collapsed": false,
    "ExecuteTime": {
     "end_time": "2023-09-14T15:09:50.565451300Z",
     "start_time": "2023-09-14T15:09:49.510749400Z"
    }
   },
   "id": "e711c629a148f5b8"
  },
  {
   "cell_type": "code",
   "execution_count": 22,
   "outputs": [
    {
     "data": {
      "text/plain": "2"
     },
     "execution_count": 22,
     "metadata": {},
     "output_type": "execute_result"
    }
   ],
   "source": [
    "numbers.index(4)  # returns the index of the given value"
   ],
   "metadata": {
    "collapsed": false,
    "ExecuteTime": {
     "end_time": "2023-09-14T15:09:50.566449200Z",
     "start_time": "2023-09-14T15:09:49.526468400Z"
    }
   },
   "id": "30d50e4754e05385"
  },
  {
   "cell_type": "code",
   "execution_count": 23,
   "outputs": [
    {
     "data": {
      "text/plain": "[1, 1, 2, 3, 4, 5, 5, 5, 6, 9, 12, 17]"
     },
     "execution_count": 23,
     "metadata": {},
     "output_type": "execute_result"
    }
   ],
   "source": [
    "numbers.sort()  # Sorts the list in place (alphabetical for list of strings)\n",
    "numbers"
   ],
   "metadata": {
    "collapsed": false,
    "ExecuteTime": {
     "end_time": "2023-09-14T15:09:50.566449200Z",
     "start_time": "2023-09-14T15:09:49.539122Z"
    }
   },
   "id": "d10ad339793f9f99"
  },
  {
   "cell_type": "code",
   "execution_count": 24,
   "outputs": [
    {
     "data": {
      "text/plain": "[]"
     },
     "execution_count": 24,
     "metadata": {},
     "output_type": "execute_result"
    }
   ],
   "source": [
    "numbers.clear()\n",
    "numbers"
   ],
   "metadata": {
    "collapsed": false,
    "ExecuteTime": {
     "end_time": "2023-09-14T15:09:50.568445500Z",
     "start_time": "2023-09-14T15:09:49.547770100Z"
    }
   },
   "id": "a540e08dd3cc4fe1"
  },
  {
   "cell_type": "code",
   "execution_count": 25,
   "outputs": [
    {
     "data": {
      "text/plain": "10"
     },
     "execution_count": 25,
     "metadata": {},
     "output_type": "execute_result"
    }
   ],
   "source": [
    "# Some important functions associated with lists\n",
    "nums = [12, 1, 2, 3, 3, 8, 5, 7, 6, 5]\n",
    "len(nums)  # This works with strings as well"
   ],
   "metadata": {
    "collapsed": false,
    "ExecuteTime": {
     "end_time": "2023-09-14T15:09:50.573430300Z",
     "start_time": "2023-09-14T15:09:49.561095800Z"
    }
   },
   "id": "d67b40b77454e282"
  },
  {
   "cell_type": "code",
   "execution_count": 26,
   "outputs": [
    {
     "data": {
      "text/plain": "[1, 2, 3, 3, 5, 5, 6, 7, 8, 12]"
     },
     "execution_count": 26,
     "metadata": {},
     "output_type": "execute_result"
    }
   ],
   "source": [
    "sorted_nums = sorted(nums)  # creates another instance rather than changing it in place\n",
    "sorted_nums"
   ],
   "metadata": {
    "collapsed": false,
    "ExecuteTime": {
     "end_time": "2023-09-14T15:09:50.574427500Z",
     "start_time": "2023-09-14T15:09:49.573263400Z"
    }
   },
   "id": "3a90c7bc34b7b155"
  },
  {
   "cell_type": "code",
   "execution_count": 27,
   "outputs": [
    {
     "data": {
      "text/plain": "[12, 1, 2, 3, 3, 8, 5, 7, 6, 5]"
     },
     "execution_count": 27,
     "metadata": {},
     "output_type": "execute_result"
    }
   ],
   "source": [
    "nums"
   ],
   "metadata": {
    "collapsed": false,
    "ExecuteTime": {
     "end_time": "2023-09-14T15:09:50.574427500Z",
     "start_time": "2023-09-14T15:09:49.581849Z"
    }
   },
   "id": "8bcff1adcb571311"
  },
  {
   "cell_type": "markdown",
   "source": [
    "---\n",
    "\n",
    "Lists in python are mutable, which means that you can make changes to them. This is not true for tuples, which are immutable. That is, once it is defined, you cannot change it. Instead, you would have to create a new instance of the tuple that has the changes."
   ],
   "metadata": {
    "collapsed": false
   },
   "id": "f20c006846a89433"
  },
  {
   "cell_type": "code",
   "execution_count": 28,
   "outputs": [
    {
     "data": {
      "text/plain": "[1, 2, 12, 4]"
     },
     "execution_count": 28,
     "metadata": {},
     "output_type": "execute_result"
    }
   ],
   "source": [
    "a = [1, 2, 3, 4]\n",
    "a[2] = 12\n",
    "a"
   ],
   "metadata": {
    "collapsed": false,
    "ExecuteTime": {
     "end_time": "2023-09-14T15:09:50.575425600Z",
     "start_time": "2023-09-14T15:09:49.591069600Z"
    }
   },
   "id": "92942f42340ae362"
  },
  {
   "cell_type": "code",
   "execution_count": 29,
   "outputs": [],
   "source": [
    "a = (1, 2, 3, 4)\n",
    "# a[2] = 12\n",
    "# a"
   ],
   "metadata": {
    "collapsed": false,
    "ExecuteTime": {
     "end_time": "2023-09-14T15:09:50.575425600Z",
     "start_time": "2023-09-14T15:09:49.604986600Z"
    }
   },
   "id": "709c2efe115f58b0"
  },
  {
   "cell_type": "code",
   "execution_count": 30,
   "outputs": [
    {
     "data": {
      "text/plain": "[1, 2, 12, 4]"
     },
     "execution_count": 30,
     "metadata": {},
     "output_type": "execute_result"
    }
   ],
   "source": [
    "# There is not much you can do with tuples\n",
    "a = list(a)  # converts it to a list\n",
    "a[2] = 12\n",
    "a"
   ],
   "metadata": {
    "collapsed": false,
    "ExecuteTime": {
     "end_time": "2023-09-14T15:09:50.575425600Z",
     "start_time": "2023-09-14T15:09:49.614301400Z"
    }
   },
   "id": "df0f497266763e05"
  },
  {
   "cell_type": "markdown",
   "source": [
    "A common issue with beginners for python lists is the incorrect method of creating a copy of a list."
   ],
   "metadata": {
    "collapsed": false
   },
   "id": "f4bab4e2fe09accf"
  },
  {
   "cell_type": "code",
   "execution_count": 31,
   "outputs": [
    {
     "data": {
      "text/plain": "[1, 2, 3, 4]"
     },
     "execution_count": 31,
     "metadata": {},
     "output_type": "execute_result"
    }
   ],
   "source": [
    "a = [1, 2, 3]\n",
    "b = a\n",
    "b.append(4)\n",
    "b"
   ],
   "metadata": {
    "collapsed": false,
    "ExecuteTime": {
     "end_time": "2023-09-14T15:09:50.576421300Z",
     "start_time": "2023-09-14T15:09:49.628437300Z"
    }
   },
   "id": "fc5586b70c3d31ae"
  },
  {
   "cell_type": "code",
   "execution_count": 32,
   "outputs": [
    {
     "data": {
      "text/plain": "[1, 2, 3, 4]"
     },
     "execution_count": 32,
     "metadata": {},
     "output_type": "execute_result"
    }
   ],
   "source": [
    "a"
   ],
   "metadata": {
    "collapsed": false,
    "ExecuteTime": {
     "end_time": "2023-09-14T15:09:50.576421300Z",
     "start_time": "2023-09-14T15:09:49.636912400Z"
    }
   },
   "id": "4e8bb70748e4c04d"
  },
  {
   "cell_type": "code",
   "execution_count": 33,
   "outputs": [
    {
     "data": {
      "text/plain": "[1, 2, 3, 4]"
     },
     "execution_count": 33,
     "metadata": {},
     "output_type": "execute_result"
    }
   ],
   "source": [
    "# The proper way to make a copy\n",
    "a = [1, 2, 3]\n",
    "b = a.copy()  # b = a[:] also works\n",
    "b.append(4)\n",
    "b"
   ],
   "metadata": {
    "collapsed": false,
    "ExecuteTime": {
     "end_time": "2023-09-14T15:09:50.577418800Z",
     "start_time": "2023-09-14T15:09:49.646607400Z"
    }
   },
   "id": "add6b02539b43e99"
  },
  {
   "cell_type": "code",
   "execution_count": 34,
   "outputs": [
    {
     "data": {
      "text/plain": "[1, 2, 3]"
     },
     "execution_count": 34,
     "metadata": {},
     "output_type": "execute_result"
    }
   ],
   "source": [
    "a"
   ],
   "metadata": {
    "collapsed": false,
    "ExecuteTime": {
     "end_time": "2023-09-14T15:09:50.577418800Z",
     "start_time": "2023-09-14T15:09:49.657401Z"
    }
   },
   "id": "b0b2889d4c5566ac"
  },
  {
   "cell_type": "markdown",
   "source": [
    "### Dictionaries\n",
    "Python dictionaries are a unique way of storing and accessing packets of information. It is particularly advantageous for its ability to find specific information without knowledge of the index number as you would have to deal with for lists.\n",
    "\n",
    "---\n",
    "Example: Show how you can access dictionaries and some of their common methods."
   ],
   "metadata": {
    "collapsed": false
   },
   "id": "e2b7c365e0219818"
  },
  {
   "cell_type": "code",
   "execution_count": 35,
   "outputs": [
    {
     "data": {
      "text/plain": "'John'"
     },
     "execution_count": 35,
     "metadata": {},
     "output_type": "execute_result"
    }
   ],
   "source": [
    "# How you can access values\n",
    "# {key: value}\n",
    "person = {\n",
    "    \"name\": \"John\",\n",
    "    \"age\": 22,\n",
    "    \"school\": \"MSU\"\n",
    "}\n",
    "\n",
    "# my_dict = dict(name='John', age=22, school='MSU')  # Same thing\n",
    "\n",
    "person['name']"
   ],
   "metadata": {
    "collapsed": false,
    "ExecuteTime": {
     "end_time": "2023-09-14T15:09:50.578418500Z",
     "start_time": "2023-09-14T15:09:49.666506800Z"
    }
   },
   "id": "cf8516f75c0b0aa"
  },
  {
   "cell_type": "code",
   "execution_count": 36,
   "outputs": [
    {
     "data": {
      "text/plain": "{'name': 'John', 'age': 22, 'school': 'MSU', 'major': 'Mechanical Engineering'}"
     },
     "execution_count": 36,
     "metadata": {},
     "output_type": "execute_result"
    }
   ],
   "source": [
    "# You can add values\n",
    "person['major'] = \"Mechanical Engineering\"\n",
    "\n",
    "# my_dict.update({'major': 'Mechanical Engineering'})  # Same thing\n",
    "\n",
    "person"
   ],
   "metadata": {
    "collapsed": false,
    "ExecuteTime": {
     "end_time": "2023-09-14T15:09:50.578418500Z",
     "start_time": "2023-09-14T15:09:49.678631700Z"
    }
   },
   "id": "97ee0aebb4b8f55a"
  },
  {
   "cell_type": "code",
   "execution_count": 37,
   "outputs": [
    {
     "data": {
      "text/plain": "{'name': 'John', 'age': 22, 'school': 'MSU'}"
     },
     "execution_count": 37,
     "metadata": {},
     "output_type": "execute_result"
    }
   ],
   "source": [
    "# Remove values\n",
    "del person['major']\n",
    "\n",
    "# major = my_dict.pop('major')  # This will remove and return the removed value (key has to exist though)\n",
    "\n",
    "person"
   ],
   "metadata": {
    "collapsed": false,
    "ExecuteTime": {
     "end_time": "2023-09-14T15:09:50.578418500Z",
     "start_time": "2023-09-14T15:09:49.689129600Z"
    }
   },
   "id": "905b12ce5fad8b56"
  },
  {
   "cell_type": "code",
   "execution_count": 38,
   "outputs": [
    {
     "data": {
      "text/plain": "(['name', 'age', 'school'], ['John', 22, 'MSU'])"
     },
     "execution_count": 38,
     "metadata": {},
     "output_type": "execute_result"
    }
   ],
   "source": [
    "# Get the list of keys or the list of values\n",
    "# You can ensure that they are converted to python lists by using the list() function\n",
    "keys = list(person.keys())\n",
    "values = list(person.values())\n",
    "\n",
    "keys, values"
   ],
   "metadata": {
    "collapsed": false,
    "ExecuteTime": {
     "end_time": "2023-09-14T15:09:50.580414200Z",
     "start_time": "2023-09-14T15:09:49.697099Z"
    }
   },
   "id": "329774e07394185f"
  },
  {
   "cell_type": "code",
   "execution_count": 39,
   "outputs": [
    {
     "data": {
      "text/plain": "[('name', 'John'), ('age', 22), ('school', 'MSU')]"
     },
     "execution_count": 39,
     "metadata": {},
     "output_type": "execute_result"
    }
   ],
   "source": [
    "# You can get a list of the key, value pairs like this\n",
    "items = list(person.items())\n",
    "items"
   ],
   "metadata": {
    "collapsed": false,
    "ExecuteTime": {
     "end_time": "2023-09-14T15:09:50.580414200Z",
     "start_time": "2023-09-14T15:09:49.707985400Z"
    }
   },
   "id": "2d601cf69384d971"
  },
  {
   "cell_type": "code",
   "execution_count": 40,
   "outputs": [
    {
     "name": "stdout",
     "output_type": "stream",
     "text": [
      "None\n"
     ]
    }
   ],
   "source": [
    "# If you try to get access to a key that is not present, then you can do one of two things\n",
    "\n",
    "# my_dict['girlfriend']  # This way will throw an error\n",
    "print(person.get('girlfriend'))  # This way will return None if it doesn't exist"
   ],
   "metadata": {
    "collapsed": false,
    "ExecuteTime": {
     "end_time": "2023-09-14T15:09:50.581412200Z",
     "start_time": "2023-09-14T15:09:49.717194900Z"
    }
   },
   "id": "6e4f0c977280a654"
  },
  {
   "cell_type": "markdown",
   "source": [
    "---\n",
    "\n",
    "## Functions, If Statements, and Loops\n",
    "Functions, if statements, and loops are fundamental building blocks of programming and are essential for solving a wide range of computational problems. Here's why they are important:\n",
    "\n",
    "* Functions:\n",
    "    * Modularity and Reusability: Functions allow you to encapsulate a block of code into a reusable and modular unit. This promotes code reusability, reduces redundancy, and simplifies code maintenance.\n",
    "    * Abstraction: Functions hide the implementation details and provide a high-level interface to perform specific tasks, making the code more understandable and manageable.\n",
    "    * Organization: By breaking code into smaller functions, you can organize your program's logic into manageable chunks, improving code readability and maintainability.\n",
    "    * Testing and Debugging: Functions make it easier to isolate and test specific parts of your code, aiding in the debugging process.\n",
    "    * Collaboration: In collaborative development, functions provide a clear interface for team members to work on different parts of a project independently.\n",
    "* If Statements (Conditional Statements):\n",
    "    * Decision-Making: Conditional statements (if, elif, else) allow your program to make decisions based on specific conditions. This is crucial for implementing logic that reacts differently to varying inputs or circumstances.\n",
    "    * Control Flow: Conditional statements control the flow of your program, enabling it to follow different paths depending on the conditions met. This is essential for building responsive and adaptable software.\n",
    "    * Error Handling: Conditional statements can be used for error handling by catching and handling exceptions when unexpected conditions occur.\n",
    "    * Validation: You can use conditional statements to validate input data and ensure that it meets certain criteria before proceeding with the execution of code.\n",
    "* Loops:\n",
    "    * Repetition: Loops (for and while) enable you to execute a block of code repeatedly, which is essential for automating repetitive tasks.\n",
    "    * Iterating Over Data: Loops are used to iterate over collections (e.g., lists, dictionaries) or sequences (e.g., range of numbers) to process each element individually.\n",
    "    * Dynamic Data Handling: Loops allow you to handle data of varying lengths or sizes, making them versatile for tasks like data processing, reading files, and network communication.\n",
    "    * Efficiency: Loops can be used to perform operations on large datasets or perform calculations multiple times, improving the efficiency of your code.\n",
    "    * Flow Control: Loops control the flow of your program, enabling it to execute different parts of code based on conditions or until specific criteria are met.\n",
    "\n",
    "In combination, functions, if statements, and loops provide the foundation for creating complex, responsive, and efficient programs in Python. They enable you to design logical and organized code, handle diverse data and input scenarios, and automate repetitive tasks. These concepts are essential for problem-solving and are used in almost every Python application, from simple scripts to large-scale software systems and data analysis.\n",
    "\n",
    "### Functions\n",
    "\n",
    "---\n",
    "Example: Write a function that greets a person, given their name."
   ],
   "metadata": {
    "collapsed": false
   },
   "id": "72ae1538baea9a86"
  },
  {
   "cell_type": "code",
   "execution_count": 41,
   "outputs": [
    {
     "name": "stdout",
     "output_type": "stream",
     "text": [
      "Hello there, John.\n"
     ]
    }
   ],
   "source": [
    "def greet(name_):\n",
    "    print(f'Hello there, {name_}.')\n",
    "    \n",
    "greet('John')"
   ],
   "metadata": {
    "collapsed": false,
    "ExecuteTime": {
     "end_time": "2023-09-14T15:09:50.581412200Z",
     "start_time": "2023-09-14T15:09:49.729905600Z"
    }
   },
   "id": "9150c5b11fb01aac"
  },
  {
   "cell_type": "code",
   "execution_count": 42,
   "outputs": [
    {
     "name": "stdout",
     "output_type": "stream",
     "text": [
      "Hello there, Jeffry.\n"
     ]
    }
   ],
   "source": [
    "# You can add a default value for name_ in case one is not provided by using keyword arguments.\n",
    "def greet(name_=\"Jeffry\"): print(f\"Hello there, {name_}.\")\n",
    "\n",
    "greet()"
   ],
   "metadata": {
    "collapsed": false,
    "ExecuteTime": {
     "end_time": "2023-09-14T15:11:09.381959800Z",
     "start_time": "2023-09-14T15:11:09.344313600Z"
    }
   },
   "id": "27a4ed58b78fb423"
  },
  {
   "cell_type": "code",
   "execution_count": 43,
   "outputs": [
    {
     "name": "stdout",
     "output_type": "stream",
     "text": [
      "Hello there, Griffin.\n"
     ]
    }
   ],
   "source": [
    "# One-liners can also be defined using lambda expressions\n",
    "greet = lambda name_=\"Jeffry\": print(f'Hello there, {name_}.')\n",
    "\n",
    "greet(name_='Griffin')"
   ],
   "metadata": {
    "collapsed": false,
    "ExecuteTime": {
     "end_time": "2023-09-14T15:13:23.044360900Z",
     "start_time": "2023-09-14T15:13:23.018504100Z"
    }
   },
   "id": "86d56e907a85fe6e"
  },
  {
   "cell_type": "markdown",
   "source": [
    "---\n",
    "\n",
    "Functions in python are called *first class functions*, which means that they can be used as variables to be passed around.\n",
    "\n",
    "---\n",
    "Example: Write a function that uses the built-in `map()` function that will evaluate $x^2$ for each $x$ in a list. The output of `[0, 1, 2, 3, 4]` would be `[0, 1, 4, 9, 16]`."
   ],
   "metadata": {
    "collapsed": false
   },
   "id": "b123204e17affac1"
  },
  {
   "cell_type": "code",
   "execution_count": 45,
   "outputs": [
    {
     "data": {
      "text/plain": "[0, 1, 2, 3, 4]"
     },
     "execution_count": 45,
     "metadata": {},
     "output_type": "execute_result"
    }
   ],
   "source": [
    "def f(x_):\n",
    "    return x_**2\n",
    "\n",
    "# x = [0, 1, 2, 3, 4]\n",
    "x = range(0, 5)"
   ],
   "metadata": {
    "collapsed": false,
    "ExecuteTime": {
     "end_time": "2023-09-14T15:17:56.747848900Z",
     "start_time": "2023-09-14T15:17:56.705656800Z"
    }
   },
   "id": "69b61ad952b52334"
  }
 ],
 "metadata": {
  "kernelspec": {
   "display_name": "Python 3",
   "language": "python",
   "name": "python3"
  },
  "language_info": {
   "codemirror_mode": {
    "name": "ipython",
    "version": 2
   },
   "file_extension": ".py",
   "mimetype": "text/x-python",
   "name": "python",
   "nbconvert_exporter": "python",
   "pygments_lexer": "ipython2",
   "version": "2.7.6"
  }
 },
 "nbformat": 4,
 "nbformat_minor": 5
}
