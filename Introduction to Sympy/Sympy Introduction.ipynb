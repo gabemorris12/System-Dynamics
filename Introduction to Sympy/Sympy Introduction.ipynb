{
 "cells": [
  {
   "cell_type": "code",
   "execution_count": 1,
   "outputs": [],
   "source": [
    "# Notebook Preamble\n",
    "import matplotlib.pyplot as plt\n",
    "import numpy as np\n",
    "import sympy as sp\n",
    "\n",
    "plt.style.use('../maroon_ipynb.mplstyle')"
   ],
   "metadata": {
    "collapsed": false,
    "ExecuteTime": {
     "end_time": "2023-11-29T14:42:44.790193600Z",
     "start_time": "2023-11-29T14:42:44.000329600Z"
    }
   },
   "id": "1be07371e342c5dd"
  },
  {
   "cell_type": "markdown",
   "source": [
    "\\pagebreak\n",
    "\\tableofcontents\n",
    "\\pagebreak\n",
    "\n",
    "# Introduction\n",
    "* The `sympy` package is a Computer Algebra System (CAS), which has the capabilities of solving math problems symbolically.\n",
    "* It essentially is an alternative to mathematica and is useful for showing mathematical procedures, especially in jupyter notebook.\n",
    "* However, it is very slow in some applications; therefore, it is usually not good to use it for automation. Instead, use numerical methods from the `numpy` and `scipy` packages when doing math behind the scenes.\n",
    "\n",
    "# General Functionality\n",
    "* `sympy` primarily works by defining symbols and functions of some variable, then doing some operation on them.\n",
    "\n",
    "## Defining Symbols\n",
    "\n",
    "---\n",
    "**Example:** Define the following symbols and functions: \n",
    "\n",
    "* Symbols: $x,\\ t,\\ s,\\ \\dot{x}$\n",
    "* Functions: $x(t),\\ x(t, s),\\ X(s)$"
   ],
   "metadata": {
    "collapsed": false
   },
   "id": "2f7270cd97e688a3"
  },
  {
   "cell_type": "code",
   "execution_count": 2,
   "outputs": [
    {
     "data": {
      "text/plain": "x",
      "text/latex": "$\\displaystyle x$"
     },
     "metadata": {},
     "output_type": "display_data"
    },
    {
     "data": {
      "text/plain": "t",
      "text/latex": "$\\displaystyle t$"
     },
     "metadata": {},
     "output_type": "display_data"
    },
    {
     "data": {
      "text/plain": "s",
      "text/latex": "$\\displaystyle s$"
     },
     "metadata": {},
     "output_type": "display_data"
    },
    {
     "data": {
      "text/plain": "\\dot{x}",
      "text/latex": "$\\displaystyle \\dot{x}$"
     },
     "metadata": {},
     "output_type": "display_data"
    }
   ],
   "source": [
    "# Use the sp.Symbol() to define a symbol one at a time.\n",
    "# Use sp.symbols() define multiple symbols at one time\n",
    "x, t, s, x_dot = sp.symbols(r'x t s \\dot{x}')\n",
    "display(x, t, s, x_dot)"
   ],
   "metadata": {
    "collapsed": false,
    "ExecuteTime": {
     "end_time": "2023-11-29T14:42:44.805659600Z",
     "start_time": "2023-11-29T14:42:44.790193600Z"
    }
   },
   "id": "778bc66b5d313d90"
  },
  {
   "cell_type": "code",
   "execution_count": 3,
   "outputs": [
    {
     "data": {
      "text/plain": "x(t)",
      "text/latex": "$\\displaystyle x{\\left(t \\right)}$"
     },
     "metadata": {},
     "output_type": "display_data"
    },
    {
     "data": {
      "text/plain": "x(t, s)",
      "text/latex": "$\\displaystyle x{\\left(t,s \\right)}$"
     },
     "metadata": {},
     "output_type": "display_data"
    },
    {
     "data": {
      "text/plain": "X(s)",
      "text/latex": "$\\displaystyle X{\\left(s \\right)}$"
     },
     "metadata": {},
     "output_type": "display_data"
    }
   ],
   "source": [
    "# For functions, we create instances of the sp.Function() class\n",
    "x_t, x_ts, X = sp.Function('x')(t), sp.Function('x')(t, s), sp.Function('X')(s)\n",
    "display(x_t, x_ts, X)"
   ],
   "metadata": {
    "collapsed": false,
    "ExecuteTime": {
     "end_time": "2023-11-29T14:42:44.809262400Z",
     "start_time": "2023-11-29T14:42:44.799212800Z"
    }
   },
   "id": "8f22cc7646b82eae"
  },
  {
   "cell_type": "markdown",
   "source": [
    "---\n",
    "\n",
    "* You define the function, then determine what it is a function of by passing in the parameters in the function call.\n",
    "\n",
    "## Substitution\n",
    "\n",
    "---\n",
    "**Example:** Create an expression for $x^2y+5yx+10$, then substitute values $x=5,\\ y=3$."
   ],
   "metadata": {
    "collapsed": false
   },
   "id": "a202fa7dbfac9ce7"
  },
  {
   "cell_type": "code",
   "execution_count": 4,
   "outputs": [
    {
     "data": {
      "text/plain": "x**2*y + 5*x*y + 10",
      "text/latex": "$\\displaystyle x^{2} y + 5 x y + 10$"
     },
     "execution_count": 4,
     "metadata": {},
     "output_type": "execute_result"
    }
   ],
   "source": [
    "x, y = sp.symbols('x y')\n",
    "expr = x**2*y + 5*x*y + 10\n",
    "expr"
   ],
   "metadata": {
    "collapsed": false,
    "ExecuteTime": {
     "end_time": "2023-11-29T14:42:44.849332600Z",
     "start_time": "2023-11-29T14:42:44.809262400Z"
    }
   },
   "id": "247d31fc48c71fa9"
  },
  {
   "cell_type": "markdown",
   "source": [
    "* You use the `.subs` method for substituting in parameters."
   ],
   "metadata": {
    "collapsed": false
   },
   "id": "1045dc993a6b8e5e"
  },
  {
   "cell_type": "code",
   "execution_count": 5,
   "outputs": [
    {
     "data": {
      "text/plain": "160",
      "text/latex": "$\\displaystyle 160$"
     },
     "execution_count": 5,
     "metadata": {},
     "output_type": "execute_result"
    }
   ],
   "source": [
    "# If multiple arguments, it takes a list of tuples.\n",
    "expr.subs([\n",
    "    (x, 5),\n",
    "    (y, 3)\n",
    "])"
   ],
   "metadata": {
    "collapsed": false,
    "ExecuteTime": {
     "end_time": "2023-11-29T14:42:44.849332600Z",
     "start_time": "2023-11-29T14:42:44.841210500Z"
    }
   },
   "id": "11e0567b4ea14726"
  },
  {
   "cell_type": "code",
   "execution_count": 6,
   "outputs": [
    {
     "data": {
      "text/plain": "10 + 3*5**2 + 5*5*3",
      "text/latex": "$\\displaystyle 10 + 3 \\cdot 5^{2} + 5 \\cdot 5 \\cdot 3$"
     },
     "metadata": {},
     "output_type": "display_data"
    },
    {
     "data": {
      "text/plain": "160",
      "text/latex": "$\\displaystyle 160$"
     },
     "metadata": {},
     "output_type": "display_data"
    }
   ],
   "source": [
    "# If you wanted to show substitutions without simplifying, this is what you would do\n",
    "with sp.evaluate(False):\n",
    "    # Everything within this context manager will not simplify\n",
    "    expr_subs = expr.subs([\n",
    "        (x, 5),\n",
    "        (y, 3)\n",
    "    ])\n",
    "display(expr_subs, expr_subs.simplify())"
   ],
   "metadata": {
    "collapsed": false,
    "ExecuteTime": {
     "end_time": "2023-11-29T14:42:44.882476500Z",
     "start_time": "2023-11-29T14:42:44.845270300Z"
    }
   },
   "id": "196d244114b6e311"
  },
  {
   "cell_type": "code",
   "execution_count": 7,
   "outputs": [
    {
     "data": {
      "text/plain": "Eq(10 + 3*5**2 + 5*5*3, 160)",
      "text/latex": "$\\displaystyle 10 + 3 \\cdot 5^{2} + 5 \\cdot 5 \\cdot 3 = 160$"
     },
     "execution_count": 7,
     "metadata": {},
     "output_type": "execute_result"
    }
   ],
   "source": [
    "# If you wanted to show it as an equation\n",
    "with sp.evaluate(False):\n",
    "    expr_subs = expr.subs([\n",
    "        (x, 5),\n",
    "        (y, 3)\n",
    "    ])\n",
    "\n",
    "# This is called the Equality class (think of it as an equation class too)\n",
    "# If sympy sees that there are no symbols, it will try to evaluate it as true or false\n",
    "sp.Eq(expr_subs, expr_subs.simplify(), evaluate=False)"
   ],
   "metadata": {
    "collapsed": false,
    "ExecuteTime": {
     "end_time": "2023-11-29T14:42:44.882476500Z",
     "start_time": "2023-11-29T14:42:44.857998Z"
    }
   },
   "id": "7427f05e2a0b8ae"
  },
  {
   "cell_type": "markdown",
   "source": [
    "---\n",
    "\n",
    "## Converting from Sympy to Python Function\n",
    "\n",
    "* The `.subs` method is good for showing basic substitutions, but if you needed to perform many different substitutions (like you would when you are plotting points), then you need to *lambdify* the expression.\n",
    "* This just means that we need to convert it from a `sympy` object to python function for fast computation.\n",
    "\n",
    "---\n",
    "**Example:** Convert the `sympy` expression $f(x)=x^2$ into a python function."
   ],
   "metadata": {
    "collapsed": false
   },
   "id": "6470eb24b981db96"
  },
  {
   "cell_type": "code",
   "execution_count": 8,
   "outputs": [
    {
     "data": {
      "text/plain": "x**2",
      "text/latex": "$\\displaystyle x^{2}$"
     },
     "execution_count": 8,
     "metadata": {},
     "output_type": "execute_result"
    }
   ],
   "source": [
    "f = x**2  # the variable x was defined above\n",
    "f"
   ],
   "metadata": {
    "collapsed": false,
    "ExecuteTime": {
     "end_time": "2023-11-29T14:42:44.882476500Z",
     "start_time": "2023-11-29T14:42:44.866913Z"
    }
   },
   "id": "aa27c719c6f0c0b0"
  },
  {
   "cell_type": "code",
   "execution_count": 9,
   "outputs": [
    {
     "data": {
      "text/plain": "<function _lambdifygenerated(x)>"
     },
     "execution_count": 9,
     "metadata": {},
     "output_type": "execute_result"
    }
   ],
   "source": [
    "# Use sp.lambdify() to generate the new function\n",
    "f_lamb = sp.lambdify(x, f, modules='numpy')  # modules='numpy' tells it to use numpy functions if necessary\n",
    "f_lamb"
   ],
   "metadata": {
    "collapsed": false,
    "ExecuteTime": {
     "end_time": "2023-11-29T14:42:44.935302500Z",
     "start_time": "2023-11-29T14:42:44.871546300Z"
    }
   },
   "id": "85e909def4334cc"
  },
  {
   "cell_type": "code",
   "execution_count": 10,
   "outputs": [
    {
     "data": {
      "text/plain": "25"
     },
     "execution_count": 10,
     "metadata": {},
     "output_type": "execute_result"
    }
   ],
   "source": [
    "# f_lamb is essentially equivalent to the following function\n",
    "# def f_lamb(x):\n",
    "#     return x**2\n",
    "\n",
    "# Now we can use it like a normal python function\n",
    "f_lamb(5)"
   ],
   "metadata": {
    "collapsed": false,
    "ExecuteTime": {
     "end_time": "2023-11-29T14:42:44.938813Z",
     "start_time": "2023-11-29T14:42:44.882476500Z"
    }
   },
   "id": "2b4224324cf37f32"
  },
  {
   "cell_type": "code",
   "execution_count": 11,
   "outputs": [
    {
     "data": {
      "text/plain": "array([ 1,  4,  9, 16])"
     },
     "execution_count": 11,
     "metadata": {},
     "output_type": "execute_result"
    }
   ],
   "source": [
    "x_values = np.array([1, 2, 3, 4])\n",
    "f_lamb(x_values)"
   ],
   "metadata": {
    "collapsed": false,
    "ExecuteTime": {
     "end_time": "2023-11-29T14:42:44.938813Z",
     "start_time": "2023-11-29T14:42:44.888991500Z"
    }
   },
   "id": "22f0c991ca3f35e2"
  },
  {
   "cell_type": "markdown",
   "source": [
    "In addition, you can obtain the raw source code of a lambdified object by using the built in `inspect` module from python."
   ],
   "metadata": {
    "collapsed": false
   },
   "id": "6186fc87960b377a"
  },
  {
   "cell_type": "code",
   "execution_count": 12,
   "outputs": [
    {
     "name": "stdout",
     "output_type": "stream",
     "text": [
      "def _lambdifygenerated(x):\n",
      "    return x**2\n"
     ]
    }
   ],
   "source": [
    "import inspect\n",
    "\n",
    "print(inspect.getsource(f_lamb))"
   ],
   "metadata": {
    "collapsed": false,
    "ExecuteTime": {
     "end_time": "2023-11-29T14:42:44.968050Z",
     "start_time": "2023-11-29T14:42:44.893263200Z"
    }
   },
   "id": "2d1e55035b63a4be"
  },
  {
   "cell_type": "markdown",
   "source": [
    "This can be particularly useful for copying and if you want to perform some analysis in `sympy`, then use the result in a python script file.\n",
    "\n",
    "---\n",
    "\n",
    "# Solving Systems of Equations\n",
    "* Systems can be solved both symbolically and numerically if needed.\n",
    "\n",
    "---\n",
    "**Example:** Solve the following system for $x$ and $y$:\n",
    "\n",
    "$$\\begin{cases}\n",
    "xy+3y+a=7 \\\\\n",
    "y+5x=2\n",
    "\\end{cases}$$"
   ],
   "metadata": {
    "collapsed": false
   },
   "id": "894fb5296cc30c6d"
  },
  {
   "cell_type": "code",
   "execution_count": 13,
   "outputs": [
    {
     "data": {
      "text/plain": "Eq(a + x*y + 3*y, 7)",
      "text/latex": "$\\displaystyle a + x y + 3 y = 7$"
     },
     "metadata": {},
     "output_type": "display_data"
    },
    {
     "data": {
      "text/plain": "Eq(5*x + y, 2)",
      "text/latex": "$\\displaystyle 5 x + y = 2$"
     },
     "metadata": {},
     "output_type": "display_data"
    }
   ],
   "source": [
    "x, y, a = sp.symbols('x y a')\n",
    "eq1 = sp.Eq(x*y + 3*y + a, 7)\n",
    "eq2 = sp.Eq(y + 5*x, 2)\n",
    "display(eq1, eq2)"
   ],
   "metadata": {
    "collapsed": false,
    "ExecuteTime": {
     "end_time": "2023-11-29T14:42:44.975142300Z",
     "start_time": "2023-11-29T14:42:44.898811800Z"
    }
   },
   "id": "2b4e71805b415075"
  },
  {
   "cell_type": "code",
   "execution_count": 14,
   "outputs": [
    {
     "data": {
      "text/plain": "[{x: -sqrt(20*a + 149)/10 - 13/10, y: sqrt(20*a + 149)/2 + 17/2},\n {x: sqrt(20*a + 149)/10 - 13/10, y: 17/2 - sqrt(20*a + 149)/2}]"
     },
     "execution_count": 14,
     "metadata": {},
     "output_type": "execute_result"
    }
   ],
   "source": [
    "sol = sp.solve([eq1, eq2], (x, y), dict=True)\n",
    "sol"
   ],
   "metadata": {
    "collapsed": false,
    "ExecuteTime": {
     "end_time": "2023-11-29T14:42:45.106213Z",
     "start_time": "2023-11-29T14:42:44.914406500Z"
    }
   },
   "id": "c1e9e630be42bd34"
  },
  {
   "cell_type": "markdown",
   "source": [
    "* Specifying `dict=True` returns a list of dictionaries where the keys are the variable and the value is the solution."
   ],
   "metadata": {
    "collapsed": false
   },
   "id": "f275ca6bbe7da651"
  },
  {
   "cell_type": "code",
   "execution_count": 15,
   "outputs": [
    {
     "data": {
      "text/plain": "Eq(x, -sqrt(20*a + 149)/10 - 13/10)",
      "text/latex": "$\\displaystyle x = - \\frac{\\sqrt{20 a + 149}}{10} - \\frac{13}{10}$"
     },
     "metadata": {},
     "output_type": "display_data"
    },
    {
     "data": {
      "text/plain": "Eq(y, sqrt(20*a + 149)/2 + 17/2)",
      "text/latex": "$\\displaystyle y = \\frac{\\sqrt{20 a + 149}}{2} + \\frac{17}{2}$"
     },
     "metadata": {},
     "output_type": "display_data"
    },
    {
     "data": {
      "text/plain": "Eq(x, sqrt(20*a + 149)/10 - 13/10)",
      "text/latex": "$\\displaystyle x = \\frac{\\sqrt{20 a + 149}}{10} - \\frac{13}{10}$"
     },
     "metadata": {},
     "output_type": "display_data"
    },
    {
     "data": {
      "text/plain": "Eq(y, 17/2 - sqrt(20*a + 149)/2)",
      "text/latex": "$\\displaystyle y = \\frac{17}{2} - \\frac{\\sqrt{20 a + 149}}{2}$"
     },
     "metadata": {},
     "output_type": "display_data"
    }
   ],
   "source": [
    "for d in sol:\n",
    "    for key, value in d.items():\n",
    "        display(sp.Eq(key, value))"
   ],
   "metadata": {
    "collapsed": false,
    "ExecuteTime": {
     "end_time": "2023-11-29T14:42:45.127455100Z",
     "start_time": "2023-11-29T14:42:45.104214500Z"
    }
   },
   "id": "d8c5e95815539fe7"
  },
  {
   "cell_type": "markdown",
   "source": [
    "* You can check the solution by substituting it, then simplifying the expression."
   ],
   "metadata": {
    "collapsed": false
   },
   "id": "a7bcb311a4957911"
  },
  {
   "cell_type": "code",
   "execution_count": 16,
   "outputs": [
    {
     "data": {
      "text/plain": "a + 3*sqrt(20*a + 149)/2 + (-sqrt(20*a + 149)/10 - 13/10)*(sqrt(20*a + 149)/2 + 17/2) + 51/2",
      "text/latex": "$\\displaystyle a + \\frac{3 \\sqrt{20 a + 149}}{2} + \\left(- \\frac{\\sqrt{20 a + 149}}{10} - \\frac{13}{10}\\right) \\left(\\frac{\\sqrt{20 a + 149}}{2} + \\frac{17}{2}\\right) + \\frac{51}{2}$"
     },
     "execution_count": 16,
     "metadata": {},
     "output_type": "execute_result"
    }
   ],
   "source": [
    "# The .lhs method returns the left hand side of the equation\n",
    "check = eq1.lhs.subs([\n",
    "    (x, sol[0][x]),\n",
    "    (y, sol[0][y])\n",
    "])\n",
    "check"
   ],
   "metadata": {
    "collapsed": false,
    "ExecuteTime": {
     "end_time": "2023-11-29T14:42:45.135370400Z",
     "start_time": "2023-11-29T14:42:45.126250700Z"
    }
   },
   "id": "8da607fab6f30f4e"
  },
  {
   "cell_type": "code",
   "execution_count": 17,
   "outputs": [
    {
     "data": {
      "text/plain": "7",
      "text/latex": "$\\displaystyle 7$"
     },
     "execution_count": 17,
     "metadata": {},
     "output_type": "execute_result"
    }
   ],
   "source": [
    "check.simplify()"
   ],
   "metadata": {
    "collapsed": false,
    "ExecuteTime": {
     "end_time": "2023-11-29T14:42:45.232235100Z",
     "start_time": "2023-11-29T14:42:45.133370800Z"
    }
   },
   "id": "4544ca0a7977b5e1"
  },
  {
   "cell_type": "markdown",
   "source": [
    "---\n",
    "**Example:** The following equation cannot be solved algebraically. Solve using numerical methods.\n",
    "\n",
    "$$e^x+x=3$$"
   ],
   "metadata": {
    "collapsed": false
   },
   "id": "96583dc7bd5ce2de"
  },
  {
   "cell_type": "code",
   "execution_count": 18,
   "outputs": [
    {
     "data": {
      "text/plain": "Eq(x + exp(x), 3)",
      "text/latex": "$\\displaystyle x + e^{x} = 3$"
     },
     "execution_count": 18,
     "metadata": {},
     "output_type": "execute_result"
    }
   ],
   "source": [
    "eq = sp.Eq(sp.exp(x) + x, 3)\n",
    "eq"
   ],
   "metadata": {
    "collapsed": false,
    "ExecuteTime": {
     "end_time": "2023-11-29T14:42:45.233217100Z",
     "start_time": "2023-11-29T14:42:45.156643800Z"
    }
   },
   "id": "30173e36dff88fc7"
  },
  {
   "cell_type": "code",
   "execution_count": 19,
   "outputs": [
    {
     "data": {
      "text/plain": "0.792059968430677",
      "text/latex": "$\\displaystyle 0.792059968430677$"
     },
     "execution_count": 19,
     "metadata": {},
     "output_type": "execute_result"
    }
   ],
   "source": [
    "sol = sp.nsolve(eq, x, 1)  # equation, variable, guess\n",
    "sol"
   ],
   "metadata": {
    "collapsed": false,
    "ExecuteTime": {
     "end_time": "2023-11-29T14:42:45.233217100Z",
     "start_time": "2023-11-29T14:42:45.164469400Z"
    }
   },
   "id": "fdd2403029384ac4"
  },
  {
   "cell_type": "markdown",
   "source": [
    "---\n",
    "\n",
    "# Calculus\n",
    "## Differentiation\n",
    "\n",
    "---\n",
    "**Example:** Find the first and second order derivative with respect to $x$ of\n",
    "\n",
    "$$f(x)=x^3+3xy+x^2$$"
   ],
   "metadata": {
    "collapsed": false
   },
   "id": "cf26c42ecb23b4de"
  },
  {
   "cell_type": "code",
   "execution_count": 20,
   "outputs": [
    {
     "data": {
      "text/plain": "x**3 + x**2 + 3*x*y",
      "text/latex": "$\\displaystyle x^{3} + x^{2} + 3 x y$"
     },
     "execution_count": 20,
     "metadata": {},
     "output_type": "execute_result"
    }
   ],
   "source": [
    "f = x**3 + 3*x*y + x**2\n",
    "f"
   ],
   "metadata": {
    "collapsed": false,
    "ExecuteTime": {
     "end_time": "2023-11-29T14:42:45.233217100Z",
     "start_time": "2023-11-29T14:42:45.169533700Z"
    }
   },
   "id": "bf2caff5e0a991f"
  },
  {
   "cell_type": "code",
   "execution_count": 21,
   "outputs": [
    {
     "data": {
      "text/plain": "3*x**2 + 2*x + 3*y",
      "text/latex": "$\\displaystyle 3 x^{2} + 2 x + 3 y$"
     },
     "execution_count": 21,
     "metadata": {},
     "output_type": "execute_result"
    }
   ],
   "source": [
    "f.diff(x)"
   ],
   "metadata": {
    "collapsed": false,
    "ExecuteTime": {
     "end_time": "2023-11-29T14:42:45.233217100Z",
     "start_time": "2023-11-29T14:42:45.175023Z"
    }
   },
   "id": "183cfb56088da29f"
  },
  {
   "cell_type": "code",
   "execution_count": 22,
   "outputs": [
    {
     "data": {
      "text/plain": "2*(3*x + 1)",
      "text/latex": "$\\displaystyle 2 \\cdot \\left(3 x + 1\\right)$"
     },
     "execution_count": 22,
     "metadata": {},
     "output_type": "execute_result"
    }
   ],
   "source": [
    "# For second order derivative:\n",
    "f.diff(x, 2)"
   ],
   "metadata": {
    "collapsed": false,
    "ExecuteTime": {
     "end_time": "2023-11-29T14:42:45.233217100Z",
     "start_time": "2023-11-29T14:42:45.184180400Z"
    }
   },
   "id": "46c84126ec058732"
  },
  {
   "cell_type": "markdown",
   "source": [
    "---\n",
    "\n",
    "## Integration\n",
    "\n",
    "---\n",
    "**Example:** Find $\\int\\ln(x)dx$"
   ],
   "metadata": {
    "collapsed": false
   },
   "id": "7beadc5103ed8bc4"
  },
  {
   "cell_type": "code",
   "execution_count": 23,
   "outputs": [
    {
     "data": {
      "text/plain": "Integral(log(x), x)",
      "text/latex": "$\\displaystyle \\int \\log{\\left(x \\right)}\\, dx$"
     },
     "execution_count": 23,
     "metadata": {},
     "output_type": "execute_result"
    }
   ],
   "source": [
    "integral = sp.Integral(sp.log(x), x)\n",
    "integral"
   ],
   "metadata": {
    "collapsed": false,
    "ExecuteTime": {
     "end_time": "2023-11-29T14:42:45.233217100Z",
     "start_time": "2023-11-29T14:42:45.193913Z"
    }
   },
   "id": "5050940213f546a7"
  },
  {
   "cell_type": "markdown",
   "source": [
    "* Note that the $\\log(x)$ function is equivalent to the $\\ln(x)$ function in `sympy`.\n",
    "* The above example shows the `Integral` class, but you can evaluate it by calling the `.doit()` method. This way of doing things may be desired for making sure that you set it up appropriately. The same concept can be done for other operations like the `Derivative` class."
   ],
   "metadata": {
    "collapsed": false
   },
   "id": "8419fca6884fcd4e"
  },
  {
   "cell_type": "code",
   "execution_count": 24,
   "outputs": [
    {
     "data": {
      "text/plain": "x*log(x) - x",
      "text/latex": "$\\displaystyle x \\log{\\left(x \\right)} - x$"
     },
     "execution_count": 24,
     "metadata": {},
     "output_type": "execute_result"
    }
   ],
   "source": [
    "integral.doit()"
   ],
   "metadata": {
    "collapsed": false,
    "ExecuteTime": {
     "end_time": "2023-11-29T14:42:45.341763300Z",
     "start_time": "2023-11-29T14:42:45.199094600Z"
    }
   },
   "id": "154efbcd5570c03f"
  },
  {
   "cell_type": "code",
   "execution_count": 25,
   "outputs": [
    {
     "data": {
      "text/plain": "x*log(x) - x",
      "text/latex": "$\\displaystyle x \\log{\\left(x \\right)} - x$"
     },
     "execution_count": 25,
     "metadata": {},
     "output_type": "execute_result"
    }
   ],
   "source": [
    "# Alternatively, you can use the integrate() method\n",
    "(sp.log(x)).integrate(x)"
   ],
   "metadata": {
    "collapsed": false,
    "ExecuteTime": {
     "end_time": "2023-11-29T14:42:45.344767300Z",
     "start_time": "2023-11-29T14:42:45.253122300Z"
    }
   },
   "id": "ddd7d9736a80d9ac"
  },
  {
   "cell_type": "markdown",
   "source": [
    "---\n",
    "\n",
    "# Differential Equations\n",
    "## Solving ODE's\n",
    "\n",
    "---\n",
    "**Example:** Solve $y''+y=\\tan(x)$"
   ],
   "metadata": {
    "collapsed": false
   },
   "id": "cd47a4590ba17c2"
  },
  {
   "cell_type": "code",
   "execution_count": 26,
   "outputs": [
    {
     "data": {
      "text/plain": "Eq(y(x) + Derivative(y(x), (x, 2)), tan(x))",
      "text/latex": "$\\displaystyle y{\\left(x \\right)} + \\frac{d^{2}}{d x^{2}} y{\\left(x \\right)} = \\tan{\\left(x \\right)}$"
     },
     "execution_count": 26,
     "metadata": {},
     "output_type": "execute_result"
    }
   ],
   "source": [
    "y = sp.Function('y')(x)\n",
    "eq = sp.Eq(y.diff(x, 2) + y, sp.tan(x))\n",
    "eq"
   ],
   "metadata": {
    "collapsed": false,
    "ExecuteTime": {
     "end_time": "2023-11-29T14:42:45.346767200Z",
     "start_time": "2023-11-29T14:42:45.280417700Z"
    }
   },
   "id": "d3f66a52cfed612e"
  },
  {
   "cell_type": "code",
   "execution_count": 27,
   "outputs": [
    {
     "data": {
      "text/plain": "Eq(y(x), C2*sin(x) + (C1 + log(sin(x) - 1)/2 - log(sin(x) + 1)/2)*cos(x))",
      "text/latex": "$\\displaystyle y{\\left(x \\right)} = C_{2} \\sin{\\left(x \\right)} + \\left(C_{1} + \\frac{\\log{\\left(\\sin{\\left(x \\right)} - 1 \\right)}}{2} - \\frac{\\log{\\left(\\sin{\\left(x \\right)} + 1 \\right)}}{2}\\right) \\cos{\\left(x \\right)}$"
     },
     "execution_count": 27,
     "metadata": {},
     "output_type": "execute_result"
    }
   ],
   "source": [
    "sol = sp.dsolve(eq)\n",
    "sol"
   ],
   "metadata": {
    "collapsed": false,
    "ExecuteTime": {
     "end_time": "2023-11-29T14:42:45.639003500Z",
     "start_time": "2023-11-29T14:42:45.289224800Z"
    }
   },
   "id": "75618683148c34a3"
  },
  {
   "cell_type": "code",
   "execution_count": 28,
   "outputs": [
    {
     "data": {
      "text/plain": "tan(x)",
      "text/latex": "$\\displaystyle \\tan{\\left(x \\right)}$"
     },
     "execution_count": 28,
     "metadata": {},
     "output_type": "execute_result"
    }
   ],
   "source": [
    "# Checking solution\n",
    "check = sol.rhs.diff(x, 2) + sol.rhs\n",
    "check.simplify()"
   ],
   "metadata": {
    "collapsed": false,
    "ExecuteTime": {
     "end_time": "2023-11-29T14:42:45.858788900Z",
     "start_time": "2023-11-29T14:42:45.628828200Z"
    }
   },
   "id": "362f962f52858c4c"
  },
  {
   "cell_type": "markdown",
   "source": [
    "---\n",
    "**Example:** Solve the system of ODE's with $x(0)=0$ and $y(0)=1$:\n",
    "\n",
    "$$\\begin{cases}\n",
    "\\frac{dx}{dt}=-x+y \\\\\n",
    "\\frac{dy}{dt}=2x\n",
    "\\end{cases}$$"
   ],
   "metadata": {
    "collapsed": false
   },
   "id": "d4e16388ee03b13"
  },
  {
   "cell_type": "code",
   "execution_count": 29,
   "outputs": [
    {
     "data": {
      "text/plain": "Eq(Derivative(x(t), t), -x(t) + y(t))",
      "text/latex": "$\\displaystyle \\frac{d}{d t} x{\\left(t \\right)} = - x{\\left(t \\right)} + y{\\left(t \\right)}$"
     },
     "metadata": {},
     "output_type": "display_data"
    },
    {
     "data": {
      "text/plain": "Eq(Derivative(y(t), t), 2*x(t))",
      "text/latex": "$\\displaystyle \\frac{d}{d t} y{\\left(t \\right)} = 2 x{\\left(t \\right)}$"
     },
     "metadata": {},
     "output_type": "display_data"
    }
   ],
   "source": [
    "t = sp.Symbol('t')\n",
    "x, y = sp.Function('x')(t), sp.Function('y')(t)\n",
    "\n",
    "eq1 = sp.Eq(x.diff(), -x + y)\n",
    "eq2 = sp.Eq(y.diff(), 2*x)\n",
    "display(eq1, eq2)"
   ],
   "metadata": {
    "collapsed": false,
    "ExecuteTime": {
     "end_time": "2023-11-29T14:42:45.858788900Z",
     "start_time": "2023-11-29T14:42:45.824077500Z"
    }
   },
   "id": "7053d93d560a8e4"
  },
  {
   "cell_type": "code",
   "execution_count": 30,
   "outputs": [
    {
     "data": {
      "text/plain": "[Eq(x(t), exp(t)/3 - exp(-2*t)/3), Eq(y(t), 2*exp(t)/3 + exp(-2*t)/3)]"
     },
     "execution_count": 30,
     "metadata": {},
     "output_type": "execute_result"
    }
   ],
   "source": [
    "sol = sp.dsolve([eq1, eq2], ics={\n",
    "    x.subs(t, 0): 0,\n",
    "    y.subs(t, 0): 1\n",
    "})\n",
    "sol"
   ],
   "metadata": {
    "collapsed": false,
    "ExecuteTime": {
     "end_time": "2023-11-29T14:42:45.948025900Z",
     "start_time": "2023-11-29T14:42:45.835667Z"
    }
   },
   "id": "87921d3282429b7d"
  },
  {
   "cell_type": "code",
   "execution_count": 31,
   "outputs": [
    {
     "data": {
      "text/plain": "Eq(x(t), exp(t)/3 - exp(-2*t)/3)",
      "text/latex": "$\\displaystyle x{\\left(t \\right)} = \\frac{e^{t}}{3} - \\frac{e^{- 2 t}}{3}$"
     },
     "metadata": {},
     "output_type": "display_data"
    },
    {
     "data": {
      "text/plain": "Eq(y(t), 2*exp(t)/3 + exp(-2*t)/3)",
      "text/latex": "$\\displaystyle y{\\left(t \\right)} = \\frac{2 e^{t}}{3} + \\frac{e^{- 2 t}}{3}$"
     },
     "metadata": {},
     "output_type": "display_data"
    }
   ],
   "source": [
    "display(*sol)  # unpacking is the same as display(sol[0], sol[1])"
   ],
   "metadata": {
    "collapsed": false,
    "ExecuteTime": {
     "end_time": "2023-11-29T14:42:45.970072200Z",
     "start_time": "2023-11-29T14:42:45.949026600Z"
    }
   },
   "id": "f5ddcfd025cdb7fd"
  },
  {
   "cell_type": "markdown",
   "source": [
    "---\n",
    "**Example:** Solve $y''-10y'+25y=30x+3$ with $y(0)=1$ and $y'(0)=3$ and plot the function by `lambdifying` the solution."
   ],
   "metadata": {
    "collapsed": false
   },
   "id": "83804e959895a717"
  },
  {
   "cell_type": "code",
   "execution_count": 32,
   "outputs": [
    {
     "data": {
      "text/plain": "Eq(25*y(x) - 10*Derivative(y(x), x) + Derivative(y(x), (x, 2)), 30*x + 3)",
      "text/latex": "$\\displaystyle 25 y{\\left(x \\right)} - 10 \\frac{d}{d x} y{\\left(x \\right)} + \\frac{d^{2}}{d x^{2}} y{\\left(x \\right)} = 30 x + 3$"
     },
     "execution_count": 32,
     "metadata": {},
     "output_type": "execute_result"
    }
   ],
   "source": [
    "x = sp.Symbol('x')  # re-defining as symbol because it was previously defined as a function\n",
    "y = sp.Function('y')(x)\n",
    "eq = sp.Eq(y.diff(x, 2) - 10*y.diff() + 25*y, 30*x + 3)\n",
    "eq"
   ],
   "metadata": {
    "collapsed": false,
    "ExecuteTime": {
     "end_time": "2023-11-29T14:42:46.022531300Z",
     "start_time": "2023-11-29T14:42:45.959552900Z"
    }
   },
   "id": "93fe5df430894928"
  },
  {
   "cell_type": "code",
   "execution_count": 33,
   "outputs": [
    {
     "data": {
      "text/plain": "Eq(y(x), 6*x/5 + (2/5 - x/5)*exp(5*x) + 3/5)",
      "text/latex": "$\\displaystyle y{\\left(x \\right)} = \\frac{6 x}{5} + \\left(\\frac{2}{5} - \\frac{x}{5}\\right) e^{5 x} + \\frac{3}{5}$"
     },
     "execution_count": 33,
     "metadata": {},
     "output_type": "execute_result"
    }
   ],
   "source": [
    "sol = sp.dsolve(eq, ics={\n",
    "    y.subs(x, 0): 1,\n",
    "    y.diff().subs(x, 0): 3\n",
    "})\n",
    "sol"
   ],
   "metadata": {
    "collapsed": false,
    "ExecuteTime": {
     "end_time": "2023-11-29T14:42:46.144914700Z",
     "start_time": "2023-11-29T14:42:46.001814600Z"
    }
   },
   "id": "5002d71b47bb178a"
  },
  {
   "cell_type": "code",
   "execution_count": 34,
   "outputs": [
    {
     "data": {
      "text/plain": "<Figure size 2400x1440 with 1 Axes>",
      "image/png": "[encoded data removed]"
     },
     "metadata": {},
     "output_type": "display_data"
    }
   ],
   "source": [
    "y_lamb = sp.lambdify(x, sol.rhs, modules='numpy')\n",
    "t_ = np.linspace(0, 2, 500)  # array from 0 to 2 with a size of 500\n",
    "\n",
    "plt.plot(t_, y_lamb(t_))\n",
    "plt.show()"
   ],
   "metadata": {
    "collapsed": false,
    "ExecuteTime": {
     "end_time": "2023-11-29T14:42:46.974238600Z",
     "start_time": "2023-11-29T14:42:46.144914700Z"
    }
   },
   "id": "9da9b565b9f17815"
  },
  {
   "cell_type": "markdown",
   "source": [
    "---\n",
    "\n",
    "## Laplace Transforms\n",
    "* Laplace transforms in `sympy` as of version 1.12 are lacking. A re-design of this part of the package is coming in a later version as seen [here](https://github.com/sympy/sympy/issues/24561).\n",
    "\n",
    "---\n",
    "**Example:** Find the laplace transform of $f(t)=2\\cos(5t)$."
   ],
   "metadata": {
    "collapsed": false
   },
   "id": "3f5ad06ac5865b42"
  },
  {
   "cell_type": "code",
   "execution_count": 35,
   "outputs": [
    {
     "data": {
      "text/plain": "2*s/(s**2 + 25)",
      "text/latex": "$\\displaystyle \\frac{2 s}{s^{2} + 25}$"
     },
     "execution_count": 35,
     "metadata": {},
     "output_type": "execute_result"
    }
   ],
   "source": [
    "s, t = sp.symbols('s t')\n",
    "sp.laplace_transform(2*sp.cos(5*t), t, s)[0]"
   ],
   "metadata": {
    "collapsed": false,
    "ExecuteTime": {
     "end_time": "2023-11-29T14:42:47.339269800Z",
     "start_time": "2023-11-29T14:42:46.959825100Z"
    }
   },
   "id": "45eee34b47a6c2bb"
  },
  {
   "cell_type": "markdown",
   "source": [
    "---\n",
    "**Example:** Solve the following ODE using laplace transforms:\n",
    "\n",
    "$$\\ddot{x}+20\\dot{x}+1000=\n",
    "\\begin{cases}\n",
    "t\\ 0\\le t<1 \\\\\n",
    "1\\ t\\ge1\n",
    "\\end{cases}$$\n",
    "\n",
    "The initial conditions are zero."
   ],
   "metadata": {
    "collapsed": false
   },
   "id": "ee838700dfde2982"
  },
  {
   "cell_type": "code",
   "execution_count": 36,
   "outputs": [
    {
     "data": {
      "text/plain": "Eq(s**2*X(s) + 20*s*X(s) + 1000*X(s), s**(-2) - exp(-s)/s**2)",
      "text/latex": "$\\displaystyle s^{2} X{\\left(s \\right)} + 20 s X{\\left(s \\right)} + 1000 X{\\left(s \\right)} = \\frac{1}{s^{2}} - \\frac{e^{- s}}{s^{2}}$"
     },
     "execution_count": 36,
     "metadata": {},
     "output_type": "execute_result"
    }
   ],
   "source": [
    "# sympy cannot do laplace transforms of piecewise functions yet, but that is in the works\n",
    "# Instead, use the answer that was found by hand in class\n",
    "X = sp.Function('X')(s)\n",
    "eq = sp.Eq(s**2*X + 20*s*X + 1000*X, 1/s**2 - 1/s**2*sp.exp(-s))\n",
    "eq"
   ],
   "metadata": {
    "collapsed": false,
    "ExecuteTime": {
     "end_time": "2023-11-29T14:42:47.339269800Z",
     "start_time": "2023-11-29T14:42:47.179685700Z"
    }
   },
   "id": "e6d955eda9ce2ab1"
  },
  {
   "cell_type": "code",
   "execution_count": 37,
   "outputs": [
    {
     "data": {
      "text/plain": "(exp(s) - 1)*exp(-s)/(s**2*(s**2 + 20*s + 1000))",
      "text/latex": "$\\displaystyle \\frac{\\left(e^{s} - 1\\right) e^{- s}}{s^{2} \\left(s^{2} + 20 s + 1000\\right)}$"
     },
     "execution_count": 37,
     "metadata": {},
     "output_type": "execute_result"
    }
   ],
   "source": [
    "sol = sp.solve(eq, X)[0]\n",
    "sol"
   ],
   "metadata": {
    "collapsed": false,
    "ExecuteTime": {
     "end_time": "2023-11-29T14:42:47.339269800Z",
     "start_time": "2023-11-29T14:42:47.190576200Z"
    }
   },
   "id": "3d11556a3a0b1711"
  },
  {
   "cell_type": "code",
   "execution_count": 38,
   "outputs": [
    {
     "data": {
      "text/plain": "t*Heaviside(t)/1000 + (-exp(-10*t)*sin(30*t)/37500 + exp(-10*t)*cos(30*t)/50000)*Heaviside(t) - ((150*t - 153)*exp(10*t - 10) - 4*sin(30*t - 30) + 3*cos(30*t - 30))*exp(10 - 10*t)*Heaviside(t - 1)/150000 - Heaviside(t)/50000",
      "text/latex": "$\\displaystyle \\frac{t \\theta\\left(t\\right)}{1000} + \\left(- \\frac{e^{- 10 t} \\sin{\\left(30 t \\right)}}{37500} + \\frac{e^{- 10 t} \\cos{\\left(30 t \\right)}}{50000}\\right) \\theta\\left(t\\right) - \\frac{\\left(\\left(150 t - 153\\right) e^{10 t - 10} - 4 \\sin{\\left(30 t - 30 \\right)} + 3 \\cos{\\left(30 t - 30 \\right)}\\right) e^{10 - 10 t} \\theta\\left(t - 1\\right)}{150000} - \\frac{\\theta\\left(t\\right)}{50000}$"
     },
     "execution_count": 38,
     "metadata": {},
     "output_type": "execute_result"
    }
   ],
   "source": [
    "x_t = sp.inverse_laplace_transform(sol, s, t).simplify()\n",
    "x_t"
   ],
   "metadata": {
    "collapsed": false,
    "ExecuteTime": {
     "end_time": "2023-11-29T14:42:48.588977900Z",
     "start_time": "2023-11-29T14:42:47.290668200Z"
    }
   },
   "id": "5dd18a459aab9fa7"
  },
  {
   "cell_type": "markdown",
   "source": [
    "* Note that the $\\theta(t)$ is the heaviside function (or unit step function)."
   ],
   "metadata": {
    "collapsed": false
   },
   "id": "7f543137003aa011"
  },
  {
   "cell_type": "code",
   "execution_count": 39,
   "outputs": [
    {
     "data": {
      "text/plain": "<Figure size 2400x1440 with 1 Axes>",
      "image/png": "[encoded data removed]"
     },
     "metadata": {},
     "output_type": "display_data"
    }
   ],
   "source": [
    "x_lamb = sp.lambdify(t, x_t, modules='numpy')\n",
    "t_ = np.linspace(0, 2, 500)\n",
    "plt.plot(t_, x_lamb(t_))\n",
    "plt.show()"
   ],
   "metadata": {
    "collapsed": false,
    "ExecuteTime": {
     "end_time": "2023-11-29T14:42:51.911219100Z",
     "start_time": "2023-11-29T14:42:48.559344800Z"
    }
   },
   "id": "cdbfb31db7097fba"
  },
  {
   "cell_type": "markdown",
   "source": [
    "---\n",
    "\n",
    "# Linear Algebra\n",
    "* `sympy` is wonderful for visualizing matrices as it is able to output \\LaTeX\\ matrices through jupyter notebook.\n",
    "\n",
    "---\n",
    "**Example:** Solve the following system by converting it to the matrix form, then augment the solution vector and put the matrix in the reduced row echelon form.\n",
    "\n",
    "$$\\begin{cases}\n",
    "x_1-x_2+2x_3=4 \\\\\n",
    "x_2-3x_3=2\n",
    "\\end{cases}$$"
   ],
   "metadata": {
    "collapsed": false
   },
   "id": "e7705bbec73a8e3"
  },
  {
   "cell_type": "code",
   "execution_count": 40,
   "outputs": [
    {
     "data": {
      "text/plain": "Eq(x1 - x2 + 2*x3, 4)",
      "text/latex": "$\\displaystyle x_{1} - x_{2} + 2 x_{3} = 4$"
     },
     "metadata": {},
     "output_type": "display_data"
    },
    {
     "data": {
      "text/plain": "Eq(x2 - 3*x3, 2)",
      "text/latex": "$\\displaystyle x_{2} - 3 x_{3} = 2$"
     },
     "metadata": {},
     "output_type": "display_data"
    },
    {
     "data": {
      "text/plain": "Eq(2*x1 + x2 - 4*x3, 2)",
      "text/latex": "$\\displaystyle 2 x_{1} + x_{2} - 4 x_{3} = 2$"
     },
     "metadata": {},
     "output_type": "display_data"
    }
   ],
   "source": [
    "x1, x2, x3 = sp.symbols('x1:4')  # defines sequence of symbols from 1 to 3\n",
    "eq1 = sp.Eq(x1 - x2 + 2*x3, 4)\n",
    "eq2 = sp.Eq(x2 - 3*x3, 2)\n",
    "eq3 = sp.Eq(2*x1 + x2 - 4*x3, 2)\n",
    "display(eq1, eq2, eq3)"
   ],
   "metadata": {
    "collapsed": false,
    "ExecuteTime": {
     "end_time": "2023-11-29T14:42:51.926510900Z",
     "start_time": "2023-11-29T14:42:51.911219100Z"
    }
   },
   "id": "4ca54ed4a87b5517"
  },
  {
   "cell_type": "code",
   "execution_count": 41,
   "outputs": [
    {
     "data": {
      "text/plain": "Eq(Matrix([\n[  x1 - x2 + 2*x3],\n[       x2 - 3*x3],\n[2*x1 + x2 - 4*x3]]), Matrix([\n[4],\n[2],\n[2]]))",
      "text/latex": "$\\displaystyle \\left[\\begin{matrix}x_{1} - x_{2} + 2 x_{3}\\\\x_{2} - 3 x_{3}\\\\2 x_{1} + x_{2} - 4 x_{3}\\end{matrix}\\right] = \\left[\\begin{matrix}4\\\\2\\\\2\\end{matrix}\\right]$"
     },
     "execution_count": 41,
     "metadata": {},
     "output_type": "execute_result"
    }
   ],
   "source": [
    "# Convert it to the matrix form\n",
    "A, b = sp.linear_eq_to_matrix([eq1, eq2, eq3], (x1, x2, x3))\n",
    "sp.Eq(A*sp.Matrix([x1, x2, x3]), b)"
   ],
   "metadata": {
    "collapsed": false,
    "ExecuteTime": {
     "end_time": "2023-11-29T14:42:51.940235500Z",
     "start_time": "2023-11-29T14:42:51.926510900Z"
    }
   },
   "id": "f91ddcf076a8059c"
  },
  {
   "cell_type": "code",
   "execution_count": 42,
   "outputs": [
    {
     "data": {
      "text/plain": "Matrix([\n[1, -1,  2, 4],\n[0,  1, -3, 2],\n[2,  1, -4, 2]])",
      "text/latex": "$\\displaystyle \\left[\\begin{matrix}1 & -1 & 2 & 4\\\\0 & 1 & -3 & 2\\\\2 & 1 & -4 & 2\\end{matrix}\\right]$"
     },
     "execution_count": 42,
     "metadata": {},
     "output_type": "execute_result"
    }
   ],
   "source": [
    "augmented = A.col_insert(3, b)\n",
    "augmented"
   ],
   "metadata": {
    "collapsed": false,
    "ExecuteTime": {
     "end_time": "2023-11-29T14:42:52.222432800Z",
     "start_time": "2023-11-29T14:42:51.935726200Z"
    }
   },
   "id": "1c10eaf69527a64b"
  },
  {
   "cell_type": "code",
   "execution_count": 43,
   "outputs": [
    {
     "data": {
      "text/plain": "Matrix([\n[1, 0, 0,  -6],\n[0, 1, 0, -34],\n[0, 0, 1, -12]])",
      "text/latex": "$\\displaystyle \\left[\\begin{matrix}1 & 0 & 0 & -6\\\\0 & 1 & 0 & -34\\\\0 & 0 & 1 & -12\\end{matrix}\\right]$"
     },
     "execution_count": 43,
     "metadata": {},
     "output_type": "execute_result"
    }
   ],
   "source": [
    "augmented.rref()[0]"
   ],
   "metadata": {
    "collapsed": false,
    "ExecuteTime": {
     "end_time": "2023-11-29T14:42:52.222432800Z",
     "start_time": "2023-11-29T14:42:51.940741300Z"
    }
   },
   "id": "a20284d91978c102"
  }
 ],
 "metadata": {
  "kernelspec": {
   "display_name": "Python 3",
   "language": "python",
   "name": "python3"
  },
  "language_info": {
   "codemirror_mode": {
    "name": "ipython",
    "version": 2
   },
   "file_extension": ".py",
   "mimetype": "text/x-python",
   "name": "python",
   "nbconvert_exporter": "python",
   "pygments_lexer": "ipython2",
   "version": "2.7.6"
  }
 },
 "nbformat": 4,
 "nbformat_minor": 5
}
