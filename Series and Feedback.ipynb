{
 "cells": [
  {
   "cell_type": "code",
   "execution_count": 1,
   "id": "initial_id",
   "metadata": {
    "collapsed": true,
    "ExecuteTime": {
     "end_time": "2023-10-03T21:39:06.486577400Z",
     "start_time": "2023-10-03T21:39:05.018256800Z"
    }
   },
   "outputs": [],
   "source": [
    "import control as ct"
   ]
  },
  {
   "cell_type": "markdown",
   "source": [
    "See page 284 in the book, figure 5.1.10. This notebook shows the identical operations in python."
   ],
   "metadata": {
    "collapsed": false
   },
   "id": "a4431b07aed5a99a"
  },
  {
   "cell_type": "code",
   "execution_count": 3,
   "outputs": [
    {
     "data": {
      "text/plain": "TransferFunction(array([1]), array([ 1,  7, 10]))",
      "text/latex": "$$\\frac{1}{s^2 + 7 s + 10}$$"
     },
     "execution_count": 3,
     "metadata": {},
     "output_type": "execute_result"
    }
   ],
   "source": [
    "T1 = ct.feedback(ct.tf(1, [1, 0]), 7)\n",
    "T2 = ct.tf(1, [1, 0])  # integrator --> 1/s\n",
    "T3 = ct.series(T1, T2)\n",
    "T = ct.feedback(T3, 10)\n",
    "T"
   ],
   "metadata": {
    "collapsed": false,
    "ExecuteTime": {
     "end_time": "2023-10-03T21:42:15.529579400Z",
     "start_time": "2023-10-03T21:42:15.476690700Z"
    }
   },
   "id": "29d87d949b3d41e2"
  }
 ],
 "metadata": {
  "kernelspec": {
   "display_name": "Python 3",
   "language": "python",
   "name": "python3"
  },
  "language_info": {
   "codemirror_mode": {
    "name": "ipython",
    "version": 2
   },
   "file_extension": ".py",
   "mimetype": "text/x-python",
   "name": "python",
   "nbconvert_exporter": "python",
   "pygments_lexer": "ipython2",
   "version": "2.7.6"
  }
 },
 "nbformat": 4,
 "nbformat_minor": 5
}
